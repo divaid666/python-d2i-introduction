{
 "cells": [
  {
   "cell_type": "code",
   "execution_count": 1,
   "metadata": {},
   "outputs": [],
   "source": [
    "import pandas as pd"
   ]
  },
  {
   "cell_type": "code",
   "execution_count": 6,
   "metadata": {},
   "outputs": [],
   "source": [
    "csv_1 = \"https://raw.githubusercontent.com/data-to-insight/ERN-sessions/main/data/ChildCharacteristics.csv\"\n",
    "csv_2 = \"https://raw.githubusercontent.com/data-to-insight/ERN-sessions/main/data/ChildIdentifiers.csv\""
   ]
  },
  {
   "cell_type": "code",
   "execution_count": 7,
   "metadata": {},
   "outputs": [
    {
     "name": "stdout",
     "output_type": "stream",
     "text": [
      "['https://raw.githubusercontent.com/data-to-insight/ERN-sessions/main/data/ChildCharacteristics.csv', 'https://raw.githubusercontent.com/data-to-insight/ERN-sessions/main/data/ChildIdentifiers.csv']\n"
     ]
    }
   ],
   "source": [
    "filenames = [csv_1,csv_2]\n",
    "print(filenames)"
   ]
  },
  {
   "cell_type": "code",
   "execution_count": 11,
   "metadata": {},
   "outputs": [
    {
     "name": "stdout",
     "output_type": "stream",
     "text": [
      "0\n",
      "https://raw.githubusercontent.com/data-to-insight/ERN-sessions/main/data/ChildCharacteristics.csv\n",
      "1\n",
      "https://raw.githubusercontent.com/data-to-insight/ERN-sessions/main/data/ChildIdentifiers.csv\n"
     ]
    }
   ],
   "source": [
    "for i, v in enumerate(filenames):\n",
    "    print(i)\n",
    "    print(v)"
   ]
  },
  {
   "cell_type": "code",
   "execution_count": 14,
   "metadata": {},
   "outputs": [
    {
     "name": "stdout",
     "output_type": "stream",
     "text": [
      "{0:      Unnamed: 0        LAchildID Ethnicity\n",
      "0             0  RND000215205141      WIRT\n",
      "1             1  RND000824303014      WROM\n",
      "2             2  RND000750143123      AOTH\n",
      "3             3  RND000909164501      MWBC\n",
      "4             4  RND000382171815      APKN\n",
      "..          ...              ...       ...\n",
      "327         327  RND000112711501      WOTH\n",
      "328         328  RND000513120794      WROM\n",
      "329         329  RND000541643134      BCRB\n",
      "330         330  RND000404939452      AIND\n",
      "331         331  RND000589802835      WBRI\n",
      "\n",
      "[332 rows x 3 columns], 1:      Unnamed: 0        LAchildID            UPN  FormerUPN  UPNunknown  \\\n",
      "0             0  RND000215205141  A850728973744        NaN         NaN   \n",
      "1             1  RND000824303014  A141396438491        NaN         NaN   \n",
      "2             2  RND000750143123  A929946861554        NaN         NaN   \n",
      "3             3  RND000909164501  A612330267292        NaN         NaN   \n",
      "4             4  RND000382171815  A604459366806        NaN         NaN   \n",
      "..          ...              ...            ...        ...         ...   \n",
      "327         327  RND000112711501  A465246916125        NaN         NaN   \n",
      "328         328  RND000513120794  A540014111973        NaN         NaN   \n",
      "329         329  RND000541643134  A549582689058        NaN         NaN   \n",
      "330         330  RND000404939452  A889492349196        NaN         NaN   \n",
      "331         331  RND000589802835  A877624860226        NaN         NaN   \n",
      "\n",
      "    PersonBirthDate ExpectedPersonBirthDate  GenderCurrent PersonDeathDate  \n",
      "0        2019-12-06                     NaN              1             NaN  \n",
      "1        2011-04-27                     NaN              9             NaN  \n",
      "2        2017-06-06              2019-12-06              1             NaN  \n",
      "3        2014-10-03                     NaN              0             NaN  \n",
      "4        2019-09-25                     NaN              2             NaN  \n",
      "..              ...                     ...            ...             ...  \n",
      "327      2010-07-07                     NaN              2             NaN  \n",
      "328      2018-08-14                     NaN              2             NaN  \n",
      "329      2021-12-09                     NaN             51             NaN  \n",
      "330      2013-07-23                     NaN              2             NaN  \n",
      "331      2021-10-25                     NaN              9             NaN  \n",
      "\n",
      "[332 rows x 9 columns]}\n"
     ]
    }
   ],
   "source": [
    "dfs = {}\n",
    "for i, v in enumerate(filenames):\n",
    "    dfs[i] = pd.read_csv(v)\n",
    "print(dfs)"
   ]
  },
  {
   "cell_type": "code",
   "execution_count": 15,
   "metadata": {},
   "outputs": [
    {
     "data": {
      "text/html": [
       "<div>\n",
       "<style scoped>\n",
       "    .dataframe tbody tr th:only-of-type {\n",
       "        vertical-align: middle;\n",
       "    }\n",
       "\n",
       "    .dataframe tbody tr th {\n",
       "        vertical-align: top;\n",
       "    }\n",
       "\n",
       "    .dataframe thead th {\n",
       "        text-align: right;\n",
       "    }\n",
       "</style>\n",
       "<table border=\"1\" class=\"dataframe\">\n",
       "  <thead>\n",
       "    <tr style=\"text-align: right;\">\n",
       "      <th></th>\n",
       "      <th>ChildId</th>\n",
       "      <th>Age first contact</th>\n",
       "      <th>Gender</th>\n",
       "      <th>Birthday</th>\n",
       "      <th>Age</th>\n",
       "      <th>CP Plan?</th>\n",
       "    </tr>\n",
       "  </thead>\n",
       "  <tbody>\n",
       "    <tr>\n",
       "      <th>0</th>\n",
       "      <td>id1</td>\n",
       "      <td>6</td>\n",
       "      <td>M</td>\n",
       "      <td>2002-01-01</td>\n",
       "      <td>5</td>\n",
       "      <td>Y</td>\n",
       "    </tr>\n",
       "    <tr>\n",
       "      <th>1</th>\n",
       "      <td>id2</td>\n",
       "      <td>12</td>\n",
       "      <td>m</td>\n",
       "      <td>2003-02-02</td>\n",
       "      <td>12</td>\n",
       "      <td>n</td>\n",
       "    </tr>\n",
       "    <tr>\n",
       "      <th>2</th>\n",
       "      <td>id3</td>\n",
       "      <td>11</td>\n",
       "      <td>F</td>\n",
       "      <td>NaT</td>\n",
       "      <td>11</td>\n",
       "      <td>N</td>\n",
       "    </tr>\n",
       "    <tr>\n",
       "      <th>3</th>\n",
       "      <td>id4</td>\n",
       "      <td>1</td>\n",
       "      <td></td>\n",
       "      <td>2023-03-03</td>\n",
       "      <td>6</td>\n",
       "      <td>No</td>\n",
       "    </tr>\n",
       "    <tr>\n",
       "      <th>4</th>\n",
       "      <td>id5</td>\n",
       "      <td>19</td>\n",
       "      <td>F</td>\n",
       "      <td>2012-01-06</td>\n",
       "      <td>2</td>\n",
       "      <td>yES</td>\n",
       "    </tr>\n",
       "  </tbody>\n",
       "</table>\n",
       "</div>"
      ],
      "text/plain": [
       "  ChildId  Age first contact Gender   Birthday  Age CP Plan?\n",
       "0     id1                  6      M 2002-01-01    5        Y\n",
       "1     id2                 12      m 2003-02-02   12        n\n",
       "2     id3                 11      F        NaT   11        N\n",
       "3     id4                  1        2023-03-03    6       No\n",
       "4     id5                 19      F 2012-01-06    2      yES"
      ]
     },
     "execution_count": 15,
     "metadata": {},
     "output_type": "execute_result"
    }
   ],
   "source": [
    "df = pd.DataFrame({'ChildId':['id1', 'id2', 'id3', 'id4', 'id5'],\n",
    "                   'Age first contact':[6,12,11,1,19],\n",
    "                   'Gender':['M','m', 'F', '', 'F' ],\n",
    "                   'Birthday':['01/01/2002', '02/02/2003', pd.NA, '03/03/2023', '06/01/2012'],\n",
    "                   'Age':[5,12,11,6,2],\n",
    "                   'CP Plan?':['Y', 'n', 'N', 'No', 'yES'],})\n",
    "df['Birthday'] = pd.to_datetime(df['Birthday'], dayfirst=True)\n",
    "df\n"
   ]
  },
  {
   "cell_type": "code",
   "execution_count": 17,
   "metadata": {},
   "outputs": [
    {
     "name": "stdout",
     "output_type": "stream",
     "text": [
      "0    False\n",
      "1     True\n",
      "2     True\n",
      "3    False\n",
      "4    False\n",
      "Name: Age, dtype: bool\n"
     ]
    }
   ],
   "source": [
    "condition = df['Age'] >= 10\n",
    "\n",
    "print(condition)"
   ]
  },
  {
   "cell_type": "code",
   "execution_count": 18,
   "metadata": {},
   "outputs": [
    {
     "data": {
      "text/html": [
       "<div>\n",
       "<style scoped>\n",
       "    .dataframe tbody tr th:only-of-type {\n",
       "        vertical-align: middle;\n",
       "    }\n",
       "\n",
       "    .dataframe tbody tr th {\n",
       "        vertical-align: top;\n",
       "    }\n",
       "\n",
       "    .dataframe thead th {\n",
       "        text-align: right;\n",
       "    }\n",
       "</style>\n",
       "<table border=\"1\" class=\"dataframe\">\n",
       "  <thead>\n",
       "    <tr style=\"text-align: right;\">\n",
       "      <th></th>\n",
       "      <th>ChildId</th>\n",
       "      <th>Age first contact</th>\n",
       "      <th>Gender</th>\n",
       "      <th>Birthday</th>\n",
       "      <th>Age</th>\n",
       "      <th>CP Plan?</th>\n",
       "    </tr>\n",
       "  </thead>\n",
       "  <tbody>\n",
       "    <tr>\n",
       "      <th>1</th>\n",
       "      <td>id2</td>\n",
       "      <td>12</td>\n",
       "      <td>m</td>\n",
       "      <td>2003-02-02</td>\n",
       "      <td>12</td>\n",
       "      <td>n</td>\n",
       "    </tr>\n",
       "    <tr>\n",
       "      <th>2</th>\n",
       "      <td>id3</td>\n",
       "      <td>11</td>\n",
       "      <td>F</td>\n",
       "      <td>NaT</td>\n",
       "      <td>11</td>\n",
       "      <td>N</td>\n",
       "    </tr>\n",
       "  </tbody>\n",
       "</table>\n",
       "</div>"
      ],
      "text/plain": [
       "  ChildId  Age first contact Gender   Birthday  Age CP Plan?\n",
       "1     id2                 12      m 2003-02-02   12        n\n",
       "2     id3                 11      F        NaT   11        N"
      ]
     },
     "execution_count": 18,
     "metadata": {},
     "output_type": "execute_result"
    }
   ],
   "source": [
    "df[condition]"
   ]
  },
  {
   "cell_type": "code",
   "execution_count": 19,
   "metadata": {},
   "outputs": [
    {
     "name": "stdout",
     "output_type": "stream",
     "text": [
      "  ChildId  Age first contact Gender   Birthday  Age CP Plan?\n",
      "1     id2                 12      m 2003-02-02   12        n\n",
      "2     id3                 11      F        NaT   11        N\n"
     ]
    }
   ],
   "source": [
    "over_10 = df[condition]\n",
    "\n",
    "print(over_10)"
   ]
  },
  {
   "cell_type": "code",
   "execution_count": 21,
   "metadata": {},
   "outputs": [
    {
     "name": "stdout",
     "output_type": "stream",
     "text": [
      "  ChildId  Age first contact Gender   Birthday  Age CP Plan?\n",
      "0     id1                  6      M 2002-01-01    5        Y\n",
      "3     id4                  1        2023-03-03    6       No\n"
     ]
    }
   ],
   "source": [
    "condition_2 = df['Age first contact'] < 10\n",
    "\n",
    "under_10_at_contact = df[condition_2]\n",
    "\n",
    "print(under_10_at_contact)"
   ]
  },
  {
   "cell_type": "code",
   "execution_count": 25,
   "metadata": {},
   "outputs": [
    {
     "name": "stdout",
     "output_type": "stream",
     "text": [
      "  ChildId  Age first contact Gender   Birthday  Age CP Plan?\n",
      "0     id1                  6      M 2002-01-01    5        Y\n",
      "4     id5                 19      F 2012-01-06    2      yES\n"
     ]
    }
   ],
   "source": [
    "error_condition = df['Age first contact'] > df['Age']\n",
    "\n",
    "error_df = df[error_condition]\n",
    "\n",
    "print(error_df)"
   ]
  },
  {
   "cell_type": "code",
   "execution_count": 27,
   "metadata": {},
   "outputs": [
    {
     "name": "stdout",
     "output_type": "stream",
     "text": [
      "  ChildId  Age first contact Gender   Birthday  Age CP Plan?\n",
      "1     id2                 12      m 2003-02-02   12        n\n",
      "2     id3                 11      F        NaT   11        N\n"
     ]
    }
   ],
   "source": [
    "condition = df['Age first contact'] == df['Age']\n",
    "\n",
    "new_df = df[condition]\n",
    "\n",
    "print(new_df)"
   ]
  },
  {
   "cell_type": "code",
   "execution_count": 31,
   "metadata": {},
   "outputs": [
    {
     "name": "stdout",
     "output_type": "stream",
     "text": [
      "True\n"
     ]
    }
   ],
   "source": [
    "statement_1 = 1 > 2 # False\n",
    "statement_2 = 2==2  # True\n",
    "statement_3 = 2 > 3\n",
    "\n",
    "statement_4 = statement_1 | statement_2 | statement_3\n",
    "\n",
    "print(statement_4)"
   ]
  },
  {
   "cell_type": "code",
   "execution_count": 33,
   "metadata": {},
   "outputs": [
    {
     "name": "stdout",
     "output_type": "stream",
     "text": [
      "False\n",
      "False\n",
      "True\n",
      "True\n",
      "True\n"
     ]
    }
   ],
   "source": [
    "\n",
    "statement_1 = 1 < 2 # False\n",
    "statement_2 = 2 == 2 # True\n",
    "statement_3 = 2 > 3 # False\n",
    "statement_4 = (statement_1 & statement_2) & statement_3\n",
    "print(statement_4)\n",
    "print(((1 > 2) & (2 == 2))) # false, because 1 is not greater than 2 and both need to be true\n",
    "print(((1 > 2) | (2 == 2))) # True because at least one of the components is true,\n",
    "                            # even though 1 is not greater than 2\n",
    "print(((3 > 2) | (2 == 2))) # Still true, as at least one is true\n",
    "print(((3 > 2) & (2 == 2))) # Only strue because both are true\n",
    "# In this cell, writet a logical test that fails an and condition,\n",
    "# but passes an or condition, and print both"
   ]
  },
  {
   "cell_type": "code",
   "execution_count": 35,
   "metadata": {},
   "outputs": [
    {
     "data": {
      "text/html": [
       "<div>\n",
       "<style scoped>\n",
       "    .dataframe tbody tr th:only-of-type {\n",
       "        vertical-align: middle;\n",
       "    }\n",
       "\n",
       "    .dataframe tbody tr th {\n",
       "        vertical-align: top;\n",
       "    }\n",
       "\n",
       "    .dataframe thead th {\n",
       "        text-align: right;\n",
       "    }\n",
       "</style>\n",
       "<table border=\"1\" class=\"dataframe\">\n",
       "  <thead>\n",
       "    <tr style=\"text-align: right;\">\n",
       "      <th></th>\n",
       "      <th>ChildId</th>\n",
       "      <th>Age first contact</th>\n",
       "      <th>Gender</th>\n",
       "      <th>Birthday</th>\n",
       "      <th>Age</th>\n",
       "      <th>CP Plan?</th>\n",
       "    </tr>\n",
       "  </thead>\n",
       "  <tbody>\n",
       "    <tr>\n",
       "      <th>2</th>\n",
       "      <td>id3</td>\n",
       "      <td>11</td>\n",
       "      <td>F</td>\n",
       "      <td>NaT</td>\n",
       "      <td>11</td>\n",
       "      <td>N</td>\n",
       "    </tr>\n",
       "  </tbody>\n",
       "</table>\n",
       "</div>"
      ],
      "text/plain": [
       "  ChildId  Age first contact Gender Birthday  Age CP Plan?\n",
       "2     id3                 11      F      NaT   11        N"
      ]
     },
     "execution_count": 35,
     "metadata": {},
     "output_type": "execute_result"
    }
   ],
   "source": [
    "# .isna() / .notna()\n",
    "\n",
    "no_bday = df[df['Birthday'].isna()]\n",
    "\n",
    "no_bday"
   ]
  },
  {
   "cell_type": "code",
   "execution_count": 36,
   "metadata": {},
   "outputs": [
    {
     "name": "stdout",
     "output_type": "stream",
     "text": [
      "  ChildId  Age first contact Gender   Birthday  Age CP Plan?\n",
      "0     id1                  6      M 2002-01-01    5        Y\n",
      "1     id2                 12      m 2003-02-02   12        n\n",
      "3     id4                  1        2023-03-03    6       No\n",
      "4     id5                 19      F 2012-01-06    2      yES\n"
     ]
    }
   ],
   "source": [
    "has_bday = df[df['Birthday'].notna()]\n",
    "print(has_bday)"
   ]
  },
  {
   "cell_type": "code",
   "execution_count": 37,
   "metadata": {},
   "outputs": [
    {
     "data": {
      "text/html": [
       "<div>\n",
       "<style scoped>\n",
       "    .dataframe tbody tr th:only-of-type {\n",
       "        vertical-align: middle;\n",
       "    }\n",
       "\n",
       "    .dataframe tbody tr th {\n",
       "        vertical-align: top;\n",
       "    }\n",
       "\n",
       "    .dataframe thead th {\n",
       "        text-align: right;\n",
       "    }\n",
       "</style>\n",
       "<table border=\"1\" class=\"dataframe\">\n",
       "  <thead>\n",
       "    <tr style=\"text-align: right;\">\n",
       "      <th></th>\n",
       "      <th>ChildId</th>\n",
       "      <th>Age first contact</th>\n",
       "      <th>Gender</th>\n",
       "      <th>Birthday</th>\n",
       "      <th>Age</th>\n",
       "      <th>CP Plan?</th>\n",
       "    </tr>\n",
       "  </thead>\n",
       "  <tbody>\n",
       "    <tr>\n",
       "      <th>1</th>\n",
       "      <td>id2</td>\n",
       "      <td>12</td>\n",
       "      <td>m</td>\n",
       "      <td>2003-02-02</td>\n",
       "      <td>12</td>\n",
       "      <td>n</td>\n",
       "    </tr>\n",
       "    <tr>\n",
       "      <th>3</th>\n",
       "      <td>id4</td>\n",
       "      <td>1</td>\n",
       "      <td></td>\n",
       "      <td>2023-03-03</td>\n",
       "      <td>6</td>\n",
       "      <td>No</td>\n",
       "    </tr>\n",
       "  </tbody>\n",
       "</table>\n",
       "</div>"
      ],
      "text/plain": [
       "  ChildId  Age first contact Gender   Birthday  Age CP Plan?\n",
       "1     id2                 12      m 2003-02-02   12        n\n",
       "3     id4                  1        2023-03-03    6       No"
      ]
     },
     "execution_count": 37,
     "metadata": {},
     "output_type": "execute_result"
    }
   ],
   "source": [
    "six_of_12 = (df['Age'] == 6) | (df['Age']==12)\n",
    "\n",
    "df[six_of_12]"
   ]
  },
  {
   "cell_type": "code",
   "execution_count": 40,
   "metadata": {},
   "outputs": [
    {
     "data": {
      "text/html": [
       "<div>\n",
       "<style scoped>\n",
       "    .dataframe tbody tr th:only-of-type {\n",
       "        vertical-align: middle;\n",
       "    }\n",
       "\n",
       "    .dataframe tbody tr th {\n",
       "        vertical-align: top;\n",
       "    }\n",
       "\n",
       "    .dataframe thead th {\n",
       "        text-align: right;\n",
       "    }\n",
       "</style>\n",
       "<table border=\"1\" class=\"dataframe\">\n",
       "  <thead>\n",
       "    <tr style=\"text-align: right;\">\n",
       "      <th></th>\n",
       "      <th>ChildId</th>\n",
       "      <th>Age first contact</th>\n",
       "      <th>Gender</th>\n",
       "      <th>Birthday</th>\n",
       "      <th>Age</th>\n",
       "      <th>CP Plan?</th>\n",
       "    </tr>\n",
       "  </thead>\n",
       "  <tbody>\n",
       "    <tr>\n",
       "      <th>1</th>\n",
       "      <td>id2</td>\n",
       "      <td>12</td>\n",
       "      <td>m</td>\n",
       "      <td>2003-02-02</td>\n",
       "      <td>12</td>\n",
       "      <td>n</td>\n",
       "    </tr>\n",
       "    <tr>\n",
       "      <th>3</th>\n",
       "      <td>id4</td>\n",
       "      <td>1</td>\n",
       "      <td></td>\n",
       "      <td>2023-03-03</td>\n",
       "      <td>6</td>\n",
       "      <td>No</td>\n",
       "    </tr>\n",
       "  </tbody>\n",
       "</table>\n",
       "</div>"
      ],
      "text/plain": [
       "  ChildId  Age first contact Gender   Birthday  Age CP Plan?\n",
       "1     id2                 12      m 2003-02-02   12        n\n",
       "3     id4                  1        2023-03-03    6       No"
      ]
     },
     "execution_count": 40,
     "metadata": {},
     "output_type": "execute_result"
    }
   ],
   "source": [
    "df[ df['Age'].isin([6,12])]"
   ]
  },
  {
   "cell_type": "code",
   "execution_count": 41,
   "metadata": {},
   "outputs": [
    {
     "data": {
      "text/html": [
       "<div>\n",
       "<style scoped>\n",
       "    .dataframe tbody tr th:only-of-type {\n",
       "        vertical-align: middle;\n",
       "    }\n",
       "\n",
       "    .dataframe tbody tr th {\n",
       "        vertical-align: top;\n",
       "    }\n",
       "\n",
       "    .dataframe thead th {\n",
       "        text-align: right;\n",
       "    }\n",
       "</style>\n",
       "<table border=\"1\" class=\"dataframe\">\n",
       "  <thead>\n",
       "    <tr style=\"text-align: right;\">\n",
       "      <th></th>\n",
       "      <th>ChildId</th>\n",
       "      <th>Age first contact</th>\n",
       "      <th>Gender</th>\n",
       "      <th>Birthday</th>\n",
       "      <th>Age</th>\n",
       "      <th>CP Plan?</th>\n",
       "    </tr>\n",
       "  </thead>\n",
       "  <tbody>\n",
       "    <tr>\n",
       "      <th>4</th>\n",
       "      <td>id5</td>\n",
       "      <td>19</td>\n",
       "      <td>F</td>\n",
       "      <td>2012-01-06</td>\n",
       "      <td>2</td>\n",
       "      <td>yES</td>\n",
       "    </tr>\n",
       "  </tbody>\n",
       "</table>\n",
       "</div>"
      ],
      "text/plain": [
       "  ChildId  Age first contact Gender   Birthday  Age CP Plan?\n",
       "4     id5                 19      F 2012-01-06    2      yES"
      ]
     },
     "execution_count": 41,
     "metadata": {},
     "output_type": "execute_result"
    }
   ],
   "source": [
    "str_condition = df['CP Plan?'].str.contains('y')\n",
    "df[str_condition]"
   ]
  },
  {
   "cell_type": "code",
   "execution_count": 42,
   "metadata": {},
   "outputs": [
    {
     "data": {
      "text/html": [
       "<div>\n",
       "<style scoped>\n",
       "    .dataframe tbody tr th:only-of-type {\n",
       "        vertical-align: middle;\n",
       "    }\n",
       "\n",
       "    .dataframe tbody tr th {\n",
       "        vertical-align: top;\n",
       "    }\n",
       "\n",
       "    .dataframe thead th {\n",
       "        text-align: right;\n",
       "    }\n",
       "</style>\n",
       "<table border=\"1\" class=\"dataframe\">\n",
       "  <thead>\n",
       "    <tr style=\"text-align: right;\">\n",
       "      <th></th>\n",
       "      <th>ChildId</th>\n",
       "      <th>Age first contact</th>\n",
       "      <th>Gender</th>\n",
       "      <th>Birthday</th>\n",
       "      <th>Age</th>\n",
       "      <th>CP Plan?</th>\n",
       "    </tr>\n",
       "  </thead>\n",
       "  <tbody>\n",
       "    <tr>\n",
       "      <th>0</th>\n",
       "      <td>id1</td>\n",
       "      <td>6</td>\n",
       "      <td>M</td>\n",
       "      <td>2002-01-01</td>\n",
       "      <td>5</td>\n",
       "      <td>Y</td>\n",
       "    </tr>\n",
       "    <tr>\n",
       "      <th>4</th>\n",
       "      <td>id5</td>\n",
       "      <td>19</td>\n",
       "      <td>F</td>\n",
       "      <td>2012-01-06</td>\n",
       "      <td>2</td>\n",
       "      <td>yES</td>\n",
       "    </tr>\n",
       "  </tbody>\n",
       "</table>\n",
       "</div>"
      ],
      "text/plain": [
       "  ChildId  Age first contact Gender   Birthday  Age CP Plan?\n",
       "0     id1                  6      M 2002-01-01    5        Y\n",
       "4     id5                 19      F 2012-01-06    2      yES"
      ]
     },
     "execution_count": 42,
     "metadata": {},
     "output_type": "execute_result"
    }
   ],
   "source": [
    "str_condition = df['CP Plan?'].str.lower().str.contains('y')\n",
    "df[str_condition]"
   ]
  },
  {
   "cell_type": "code",
   "execution_count": 43,
   "metadata": {},
   "outputs": [
    {
     "name": "stdout",
     "output_type": "stream",
     "text": [
      "  ChildId  Age first contact Gender   Birthday  Age CP Plan?\n",
      "4     id5                 19      F 2012-01-06    2      yES\n"
     ]
    }
   ],
   "source": [
    "under_5_cp_plan = (df['Age']<5) & df['CP Plan?'].str.lower().str.contains('y')\n",
    "\n",
    "print(df[under_5_cp_plan])"
   ]
  },
  {
   "cell_type": "code",
   "execution_count": 44,
   "metadata": {},
   "outputs": [
    {
     "name": "stdout",
     "output_type": "stream",
     "text": [
      "  ChildId  Age first contact Gender   Birthday  Age CP Plan?\n",
      "1     id2                 12      m 2003-02-02   12        n\n"
     ]
    }
   ],
   "source": [
    "over_10_age_of_contact_and_male = (df['Age first contact']>10) & (df['Gender'].str.lower().str.contains('m'))\n",
    "\n",
    "print(df[over_10_age_of_contact_and_male])"
   ]
  },
  {
   "cell_type": "code",
   "execution_count": 55,
   "metadata": {},
   "outputs": [
    {
     "name": "stdout",
     "output_type": "stream",
     "text": [
      "1 was not between 10 and 15\n",
      "2 was not between 10 and 15\n",
      "3 was not between 10 and 15\n",
      "4 was not between 10 and 15\n",
      "5 was not between 10 and 15\n",
      "6 was not between 10 and 15\n",
      "7 was not between 10 and 15\n",
      "8 was not between 10 and 15\n",
      "The value was 9\n",
      "10 is greater than or equal to 10\n",
      "10 was not between 10 and 15\n",
      "11 is greater than or equal to 10\n",
      "11 is less than 15\n",
      "12 is greater than or equal to 10\n",
      "12 is less than 15\n",
      "13 is greater than or equal to 10\n",
      "13 is less than 15\n",
      "14 is greater than or equal to 10\n",
      "14 is less than 15\n",
      "15 is greater than or equal to 10\n",
      "15 was not between 10 and 15\n",
      "16 is greater than or equal to 10\n",
      "16 was not between 10 and 15\n",
      "17 is greater than or equal to 10\n",
      "17 was not between 10 and 15\n",
      "18 is greater than or equal to 10\n",
      "18 was not between 10 and 15\n",
      "19 is greater than or equal to 10\n",
      "19 was not between 10 and 15\n"
     ]
    }
   ],
   "source": [
    "\n",
    "for x in list(range(1,20)):\n",
    "    if x >= 10:\n",
    "        print(f'{x} is greater than or equal to 10')\n",
    "    if (x > 10) & (x < 15):\n",
    "        print(f'{x} is less than 15')\n",
    "    elif x == 9:\n",
    "        print('The value was 9')\n",
    "\n",
    "    else:\n",
    "        print(f'{x} was not between 10 and 15')"
   ]
  },
  {
   "cell_type": "code",
   "execution_count": 64,
   "metadata": {},
   "outputs": [
    {
     "name": "stdout",
     "output_type": "stream",
     "text": [
      "1\n",
      "2\n",
      "3 fizz\n",
      "4\n",
      "5 bang\n",
      "6 fizz\n",
      "7\n",
      "8\n",
      "9 fizz\n",
      "10 bang\n",
      "11\n",
      "12 fizz\n",
      "13\n",
      "14\n",
      "15 fizzbang\n",
      "16\n",
      "17\n",
      "18 fizz\n",
      "19\n",
      "20 bang\n",
      "21 fizz\n",
      "22\n",
      "23\n",
      "24 fizz\n",
      "25 bang\n",
      "26\n",
      "27 fizz\n",
      "28\n",
      "29\n",
      "30 fizzbang\n",
      "31\n",
      "32\n",
      "33 fizz\n",
      "34\n",
      "35 bang\n",
      "36 fizz\n",
      "37\n",
      "38\n",
      "39 fizz\n",
      "40 bang\n",
      "41\n",
      "42 fizz\n",
      "43\n",
      "44\n",
      "45 fizzbang\n",
      "46\n",
      "47\n",
      "48 fizz\n",
      "49\n",
      "50 bang\n",
      "51 fizz\n",
      "52\n",
      "53\n",
      "54 fizz\n",
      "55 bang\n",
      "56\n",
      "57 fizz\n",
      "58\n",
      "59\n",
      "60 fizzbang\n",
      "61\n",
      "62\n",
      "63 fizz\n",
      "64\n",
      "65 bang\n",
      "66 fizz\n",
      "67\n",
      "68\n",
      "69 fizz\n",
      "70 bang\n",
      "71\n",
      "72 fizz\n",
      "73\n",
      "74\n",
      "75 fizzbang\n",
      "76\n",
      "77\n",
      "78 fizz\n",
      "79\n",
      "80 bang\n",
      "81 fizz\n",
      "82\n",
      "83\n",
      "84 fizz\n",
      "85 bang\n",
      "86\n",
      "87 fizz\n",
      "88\n",
      "89\n",
      "90 fizzbang\n",
      "91\n",
      "92\n",
      "93 fizz\n",
      "94\n",
      "95 bang\n",
      "96 fizz\n",
      "97\n",
      "98\n",
      "99 fizz\n",
      "100 bang\n"
     ]
    }
   ],
   "source": [
    "numbers = list(range(1,101))\n",
    "\n",
    "for i in numbers:\n",
    "    if (i % 3 == 0) & (i % 5 == 0):\n",
    "       print(f'{i} fizzbang')\n",
    "    elif i % 3 == 0:\n",
    "        print(f'{i} fizz')\n",
    "    elif i % 5 == 0:\n",
    "        print(f'{i} bang')\n",
    "    else:\n",
    "        print(i)\n",
    "\n",
    "\n"
   ]
  },
  {
   "cell_type": "code",
   "execution_count": null,
   "metadata": {},
   "outputs": [],
   "source": []
  }
 ],
 "metadata": {
  "kernelspec": {
   "display_name": "Python 3",
   "language": "python",
   "name": "python3"
  },
  "language_info": {
   "codemirror_mode": {
    "name": "ipython",
    "version": 3
   },
   "file_extension": ".py",
   "mimetype": "text/x-python",
   "name": "python",
   "nbconvert_exporter": "python",
   "pygments_lexer": "ipython3",
   "version": "3.10.13"
  }
 },
 "nbformat": 4,
 "nbformat_minor": 2
}
