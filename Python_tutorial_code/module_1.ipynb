{
 "cells": [
  {
   "cell_type": "code",
   "execution_count": 1,
   "metadata": {},
   "outputs": [
    {
     "name": "stdout",
     "output_type": "stream",
     "text": [
      "15\n"
     ]
    }
   ],
   "source": [
    "x = 5\n",
    "y = 10\n",
    "\n",
    "\n",
    "sum = x + y\n",
    "print(sum)"
   ]
  },
  {
   "cell_type": "code",
   "execution_count": 2,
   "metadata": {},
   "outputs": [
    {
     "name": "stdout",
     "output_type": "stream",
     "text": [
      "100000\n",
      "50\n",
      "0.5\n"
     ]
    }
   ],
   "source": [
    "x = 10\n",
    "y = 5\n",
    "print(x**y)\n",
    "print(y*x)\n",
    "print(y/x)"
   ]
  },
  {
   "cell_type": "code",
   "execution_count": 3,
   "metadata": {},
   "outputs": [
    {
     "data": {
      "text/plain": [
       "float"
      ]
     },
     "execution_count": 3,
     "metadata": {},
     "output_type": "execute_result"
    }
   ],
   "source": [
    "x = 10.5\n",
    "y = 5\n",
    "z = x + y\n",
    "type (z)"
   ]
  },
  {
   "cell_type": "code",
   "execution_count": 4,
   "metadata": {},
   "outputs": [
    {
     "data": {
      "text/plain": [
       "float"
      ]
     },
     "execution_count": 4,
     "metadata": {},
     "output_type": "execute_result"
    }
   ],
   "source": [
    "type(x)"
   ]
  },
  {
   "cell_type": "code",
   "execution_count": 5,
   "metadata": {},
   "outputs": [
    {
     "name": "stdout",
     "output_type": "stream",
     "text": [
      "2030\n"
     ]
    }
   ],
   "source": [
    "a = \"20\"\n",
    "b = \"30\"\n",
    "c = a + b\n",
    "print (c)"
   ]
  },
  {
   "cell_type": "code",
   "execution_count": 6,
   "metadata": {},
   "outputs": [
    {
     "name": "stdout",
     "output_type": "stream",
     "text": [
      "12.56\n"
     ]
    }
   ],
   "source": [
    "r = 2\n",
    "pi = 3.14\n",
    "area = pi*r**2\n",
    "print(area)"
   ]
  },
  {
   "cell_type": "code",
   "execution_count": 7,
   "metadata": {},
   "outputs": [
    {
     "name": "stdout",
     "output_type": "stream",
     "text": [
      "My name is Dawid and I am a Intellignce Analyst\n",
      "My name is Dawid and I am a Intellignce Analyst\n"
     ]
    }
   ],
   "source": [
    "name = 'Dawid'\n",
    "job = 'Intellignce Analyst'\n",
    "\n",
    "longer_string = \"My name is \"+ name + \" \" + \"and I am a \" + job\n",
    "print(longer_string)\n",
    "\n",
    "\n",
    "# super useful - f string\n",
    "phrase = f\"My name is {name} and I am a {job}\"\n",
    "print(phrase)"
   ]
  },
  {
   "cell_type": "code",
   "execution_count": 8,
   "metadata": {},
   "outputs": [
    {
     "name": "stdout",
     "output_type": "stream",
     "text": [
      "My favouring player is Steph Curry and he plays for the team called Golden State Warriors\n"
     ]
    }
   ],
   "source": [
    "name = 'Steph'\n",
    "surname = 'Curry'\n",
    "team = \"Golden State Warriors\"\n",
    "\n",
    "phrase = f\"My favouring player is {name} {surname} and he plays for the team called {team}\"\n",
    "\n",
    "print(phrase)"
   ]
  },
  {
   "cell_type": "code",
   "execution_count": 9,
   "metadata": {},
   "outputs": [
    {
     "name": "stdout",
     "output_type": "stream",
     "text": [
      " The rate of cin plans per 10k children is 444.0\n"
     ]
    }
   ],
   "source": [
    "cin_plan = 666\n",
    "total_pop = 15000\n",
    "rp10k = (cin_plan / total_pop) * 10000\n",
    "explanations = f\" The rate of cin plans per 10k children is {rp10k}\"\n",
    "print(explanations)"
   ]
  },
  {
   "cell_type": "code",
   "execution_count": 10,
   "metadata": {},
   "outputs": [
    {
     "name": "stdout",
     "output_type": "stream",
     "text": [
      "c://desktop/data/903_header.csv\n",
      "p\n",
      "data/903\n",
      ".csv\n",
      "903_header\n",
      "The file name is: 903_header\n"
     ]
    }
   ],
   "source": [
    "filename = \"c://desktop/data/903_header.csv\"\n",
    "print(filename)\n",
    "\n",
    "substring = filename[10]\n",
    "print(substring)\n",
    "\n",
    "substring2 = filename[12:20]\n",
    "print(substring2)\n",
    "\n",
    "substring3 = filename[-4:]\n",
    "print(substring3)\n",
    "\n",
    "substring4 = filename[17:-4]\n",
    "print(substring4)\n",
    "\n",
    "long_phrase = f\"The file name is: {substring4}\"\n",
    "print(long_phrase)"
   ]
  },
  {
   "cell_type": "code",
   "execution_count": 11,
   "metadata": {},
   "outputs": [
    {
     "name": "stdout",
     "output_type": "stream",
     "text": [
      "ikcyT diwaD\n"
     ]
    }
   ],
   "source": [
    "phrase = \"Dawid Tycki\"\n",
    "reversed = phrase[-1::-1]\n",
    "print(reversed)"
   ]
  },
  {
   "cell_type": "code",
   "execution_count": 12,
   "metadata": {},
   "outputs": [
    {
     "name": "stdout",
     "output_type": "stream",
     "text": [
      "dog\n",
      "cat\n",
      "racoon\n"
     ]
    }
   ],
   "source": [
    "slice_this_phrase = 'dog cat racoon'\n",
    "\n",
    "d = slice_this_phrase[0:3]\n",
    "c = slice_this_phrase[4:7]\n",
    "r = slice_this_phrase[8:]\n",
    "print(d)\n",
    "print(c)\n",
    "print(r)"
   ]
  },
  {
   "cell_type": "code",
   "execution_count": 13,
   "metadata": {},
   "outputs": [
    {
     "name": "stdout",
     "output_type": "stream",
     "text": [
      "<class 'list'>\n",
      "[1, 2, 3, 4, 'Dawid Tycki', 'The file name is: 903_header', 'hi', 'dog', 'cat', 'dog']\n"
     ]
    }
   ],
   "source": [
    "list_1 = [1,2,3,4,phrase,long_phrase,\"hi\",d,c,d]\n",
    "print(type(list_1))\n",
    "print(list_1)\n"
   ]
  },
  {
   "cell_type": "code",
   "execution_count": 14,
   "metadata": {},
   "outputs": [
    {
     "name": "stdout",
     "output_type": "stream",
     "text": [
      "['red', 'blue', 'green', 'purple']\n",
      "['purple', 'green', 'blue', 'red']\n",
      "['green', 'purple']\n"
     ]
    }
   ],
   "source": [
    "colours = ['red','blue','green','purple']\n",
    "print(colours)\n",
    "print(colours[-1::-1])\n",
    "print(colours[2:])\n",
    "\n"
   ]
  },
  {
   "cell_type": "code",
   "execution_count": 15,
   "metadata": {},
   "outputs": [
    {
     "name": "stdout",
     "output_type": "stream",
     "text": [
      "['red', 'blue', 'green', 'purple', ['teal', 'orange']]\n",
      "['teal', 'orange']\n",
      "teal\n"
     ]
    }
   ],
   "source": [
    "colours = ['red','blue','green','purple']\n",
    "colours.append(['teal','orange'])  #append will add not as elements but as a list within a list, use extend instead\n",
    "print(colours)\n",
    "print(colours[4])\n",
    "print(colours[4][0])"
   ]
  },
  {
   "cell_type": "code",
   "execution_count": 16,
   "metadata": {},
   "outputs": [
    {
     "name": "stdout",
     "output_type": "stream",
     "text": [
      "['red', 'blue', 'green', 'purple', 'bronw', 'gold', 'white']\n",
      "['red', 'blue', 'green', 'purple', 'bronw', 'gold', 'white', 'gold']\n"
     ]
    }
   ],
   "source": [
    "colours = ['red','blue','green','purple']\n",
    "more_colours = ['bronw','gold','white']\n",
    "\n",
    "colours.extend(more_colours)\n",
    "print(colours)\n",
    "colours.append('gold')\n",
    "print(colours)"
   ]
  },
  {
   "cell_type": "code",
   "execution_count": 17,
   "metadata": {},
   "outputs": [
    {
     "name": "stdout",
     "output_type": "stream",
     "text": [
      "['red', 'blue', 'green', 'purple', 'bronw', 'white', 'gold']\n"
     ]
    }
   ],
   "source": [
    "colours.remove('gold') # removes the first instance of 'gold'\n",
    "print(colours)"
   ]
  },
  {
   "cell_type": "code",
   "execution_count": 18,
   "metadata": {},
   "outputs": [],
   "source": [
    "my_string = \"here's a string\""
   ]
  },
  {
   "cell_type": "markdown",
   "metadata": {},
   "source": [
    "Session 2"
   ]
  },
  {
   "cell_type": "code",
   "execution_count": 22,
   "metadata": {},
   "outputs": [
    {
     "name": "stdout",
     "output_type": "stream",
     "text": [
      "<class 'list'>\n"
     ]
    },
    {
     "data": {
      "text/plain": [
       "[1, 2, 3, 4, [10, 11, 23], 4, 6, 6, 6, 6, 6]"
      ]
     },
     "execution_count": 22,
     "metadata": {},
     "output_type": "execute_result"
    }
   ],
   "source": [
    "num_1 = 1\n",
    "num_2 = 2.0\n",
    "name = 'Dawid'\n",
    "list_x = [1,2,3,4]\n",
    "\n",
    "print(type(list_x))\n",
    "\n",
    "list_x.append([10,11,23])\n",
    "list_x.extend([4,6,6,6,6,6])\n",
    "list_x\n"
   ]
  },
  {
   "cell_type": "code",
   "execution_count": 25,
   "metadata": {},
   "outputs": [
    {
     "data": {
      "text/plain": [
       "[2, 4, 4, 6, 6]"
      ]
     },
     "execution_count": 25,
     "metadata": {},
     "output_type": "execute_result"
    }
   ],
   "source": [
    "list_x[1::2]"
   ]
  },
  {
   "cell_type": "code",
   "execution_count": 26,
   "metadata": {},
   "outputs": [
    {
     "name": "stdout",
     "output_type": "stream",
     "text": [
      "range(0, 11)\n"
     ]
    }
   ],
   "source": [
    "list_2 = range(11)\n",
    "print(list_2)"
   ]
  },
  {
   "cell_type": "code",
   "execution_count": 27,
   "metadata": {},
   "outputs": [
    {
     "name": "stdout",
     "output_type": "stream",
     "text": [
      "[0, 1, 2, 3, 4, 5, 6, 7, 8, 9, 10]\n"
     ]
    }
   ],
   "source": [
    "list_2 = list(range(11))\n",
    "print(list_2)"
   ]
  },
  {
   "cell_type": "code",
   "execution_count": 29,
   "metadata": {},
   "outputs": [
    {
     "name": "stdout",
     "output_type": "stream",
     "text": [
      "<class 'str'>\n"
     ]
    }
   ],
   "source": [
    "num_2 = str(num_2)\n",
    "print(type(num_2))"
   ]
  },
  {
   "cell_type": "code",
   "execution_count": 30,
   "metadata": {},
   "outputs": [
    {
     "name": "stdout",
     "output_type": "stream",
     "text": [
      "<class 'float'>\n"
     ]
    }
   ],
   "source": [
    "num_2 = float(num_2)  # as this string was 2.0, we cannot convert it to int - othwersie, convert str to float to int\n",
    "print(type(num_2))"
   ]
  },
  {
   "cell_type": "code",
   "execution_count": 31,
   "metadata": {},
   "outputs": [
    {
     "name": "stdout",
     "output_type": "stream",
     "text": [
      "[2, 4, 3, 5, 1, 6]\n"
     ]
    }
   ],
   "source": [
    "numbers_list = [2,4,3,5,1,6]\n",
    "print(numbers_list)"
   ]
  },
  {
   "cell_type": "code",
   "execution_count": 33,
   "metadata": {},
   "outputs": [
    {
     "name": "stdout",
     "output_type": "stream",
     "text": [
      "[1, 2, 3, 4, 5, 6]\n",
      "[6, 5, 4, 3, 2, 1]\n"
     ]
    }
   ],
   "source": [
    "numbers_list.sort()\n",
    "print(numbers_list)\n",
    "\n",
    "numbers_list.sort(reverse=True)\n",
    "print(numbers_list)"
   ]
  },
  {
   "cell_type": "code",
   "execution_count": 35,
   "metadata": {},
   "outputs": [
    {
     "name": "stdout",
     "output_type": "stream",
     "text": [
      "<class 'dict'>\n"
     ]
    }
   ],
   "source": [
    "dict_1 = {'key1':'value','key2':'value'} # each pair is an entry\n",
    "print(type(dict_1))"
   ]
  },
  {
   "cell_type": "code",
   "execution_count": 36,
   "metadata": {},
   "outputs": [],
   "source": [
    "dawid= {'Name':'Dawid',\n",
    "        'Job title':'Analyst',\n",
    "        'Hours':'36',\n",
    "        'Salary':50}\n",
    "\n",
    "\n",
    "colours_dict = {'Will':dawid,\n",
    "                'Roman':['black','blue'],\n",
    "                'Daniela':14,\n",
    "                'Julka':{'Monday':'Red',\n",
    "                         'Sunday':'Orange',\n",
    "                         'Others':'Black'}}"
   ]
  },
  {
   "cell_type": "code",
   "execution_count": 37,
   "metadata": {},
   "outputs": [],
   "source": [
    "foods = {'KFC':['Buckets','fillets'],\n",
    "         'Mac':'burgers',\n",
    "         'Wendys':{'Weekdays':'ultra processed',\n",
    "                   'Weekends':'super healthy'},\n",
    "        'Domek':'mama food'}"
   ]
  },
  {
   "cell_type": "code",
   "execution_count": 50,
   "metadata": {},
   "outputs": [
    {
     "name": "stdout",
     "output_type": "stream",
     "text": [
      "dict_keys(['KFC', 'Mac', 'Wendys', 'Domek', 'Kebab shop'])\n",
      "dict_values([['Buckets', 'fillets'], 'burgers', {'Weekdays': 'ultra processed', 'Weekends': 'super healthy'}, 'mama food', 'Kebabs'])\n",
      "dict_items([('KFC', ['Buckets', 'fillets']), ('Mac', 'burgers'), ('Wendys', {'Weekdays': 'ultra processed', 'Weekends': 'super healthy'}), ('Domek', 'mama food'), ('Kebab shop', 'Kebabs')])\n",
      "False\n",
      "True\n"
     ]
    }
   ],
   "source": [
    "print(foods.keys())\n",
    "print(foods.values())\n",
    "\n",
    "print(foods.items())  # items of tuples\n",
    "\n",
    "print('Curry house' in foods)\n",
    "print('Wendys' in foods)"
   ]
  },
  {
   "cell_type": "code",
   "execution_count": 44,
   "metadata": {},
   "outputs": [
    {
     "data": {
      "text/plain": [
       "{'Weekdays': 'ultra processed', 'Weekends': 'super healthy'}"
      ]
     },
     "execution_count": 44,
     "metadata": {},
     "output_type": "execute_result"
    }
   ],
   "source": [
    "foods['Wendys']"
   ]
  },
  {
   "cell_type": "code",
   "execution_count": 47,
   "metadata": {},
   "outputs": [
    {
     "data": {
      "text/plain": [
       "{'KFC': ['Buckets', 'fillets'],\n",
       " 'Mac': 'burgers',\n",
       " 'Wendys': {'Weekdays': 'ultra processed', 'Weekends': 'super healthy'},\n",
       " 'Domek': 'mama food',\n",
       " 'Kebab shop': 'Kebabs'}"
      ]
     },
     "execution_count": 47,
     "metadata": {},
     "output_type": "execute_result"
    }
   ],
   "source": [
    "foods['Kebab shop'] = 'Kebabs'\n",
    "foods"
   ]
  },
  {
   "cell_type": "code",
   "execution_count": 51,
   "metadata": {},
   "outputs": [
    {
     "data": {
      "text/plain": [
       "{'KFC': ['Buckets', 'fillets'],\n",
       " 'Mac': 'burgers',\n",
       " 'Wendys': {'Weekdays': 'ultra processed', 'Weekends': 'super healthy'},\n",
       " 'Domek': 'mama food',\n",
       " 'Kebab shop': 'Kebabs',\n",
       " \"Joy's food\": ['green curry', 'fried chicken', 'most amazing foods']}"
      ]
     },
     "execution_count": 51,
     "metadata": {},
     "output_type": "execute_result"
    }
   ],
   "source": [
    "foods[\"Joy's food\"] = ['green curry','fried chicken','most amazing foods']\n",
    "foods"
   ]
  },
  {
   "cell_type": "code",
   "execution_count": 55,
   "metadata": {},
   "outputs": [
    {
     "name": "stdout",
     "output_type": "stream",
     "text": [
      "dict_values([['Buckets', 'fillets'], 'burgers', {'Weekdays': 'ultra processed', 'Weekends': 'super healthy'}, 'mama food', 'Kebabs', ['green curry', 'fried chicken', 'most amazing foods']])\n",
      "{'KFC': ['Buckets', 'fillets'], 'Mac': 'burgers', 'Wendys': {'Weekdays': 'ultra processed', 'Weekends': 'super healthy'}, 'Domek': 'mama food', 'Kebab shop': 'Kebabs', \"Joy's food\": ['green curry', 'fried chicken', 'most amazing foods']}\n",
      "dict_items([('KFC', ['Buckets', 'fillets']), ('Mac', 'burgers'), ('Wendys', {'Weekdays': 'ultra processed', 'Weekends': 'super healthy'}), ('Domek', 'mama food'), ('Kebab shop', 'Kebabs'), (\"Joy's food\", ['green curry', 'fried chicken', 'most amazing foods'])])\n"
     ]
    }
   ],
   "source": [
    "print(foods.values())\n",
    "print(foods)\n",
    "print(foods.items())"
   ]
  },
  {
   "cell_type": "code",
   "execution_count": 56,
   "metadata": {},
   "outputs": [],
   "source": [
    "import pandas as pd\n",
    "\n",
    "filepath = 'https://raw.githubusercontent.com/data-to-insight/csc-validator-be-903/main/tests/fake_data/header.csv'\n",
    "\n",
    "header_fake = pd.read_csv(filepath)\n",
    "\n"
   ]
  },
  {
   "cell_type": "code",
   "execution_count": 62,
   "metadata": {},
   "outputs": [
    {
     "name": "stdout",
     "output_type": "stream",
     "text": [
      "    CHILD  SEX         DOB ETHNIC            UPN  MOTHER MC_DOB\n",
      "0  566910    2  27/03/2008   WROM  D051910639385     NaN    NaN\n",
      "1  384923    2  09/09/2011   REFU  L034811502612     NaN    NaN\n",
      "2  709901    1  14/02/2013   ABAN  Y021751958510     NaN    NaN\n",
      "3  550084    2  04/05/2008   AOTH  R095578985099     NaN    NaN\n",
      "4  710229    2  15/04/2002   REFU  Z095096287583     NaN    NaN\n",
      "       CHILD  SEX         DOB ETHNIC            UPN  MOTHER MC_DOB\n",
      "2670  152113    1  06/06/2003   WBRI  K096794376750     NaN    NaN\n",
      "2671  481370    2  12/02/2008   BAFR  C014150452081     NaN    NaN\n",
      "2672  791577    1  28/05/2011   WBRI  Q009369089812     NaN    NaN\n",
      "2673  238470    1  21/11/2013   AIND  P095222532769     NaN    NaN\n",
      "2674  437361    1  15/12/2012   WROM  G018001328504     NaN    NaN\n"
     ]
    }
   ],
   "source": [
    "print(header_fake.head())\n",
    "print(header_fake.tail())\n",
    "\n"
   ]
  },
  {
   "cell_type": "code",
   "execution_count": 65,
   "metadata": {},
   "outputs": [
    {
     "name": "stdout",
     "output_type": "stream",
     "text": [
      "<class 'pandas.core.frame.DataFrame'>\n",
      "RangeIndex: 2675 entries, 0 to 2674\n",
      "Data columns (total 7 columns):\n",
      " #   Column  Non-Null Count  Dtype  \n",
      "---  ------  --------------  -----  \n",
      " 0   CHILD   2675 non-null   int64  \n",
      " 1   SEX     2675 non-null   int64  \n",
      " 2   DOB     2675 non-null   object \n",
      " 3   ETHNIC  2675 non-null   object \n",
      " 4   UPN     2675 non-null   object \n",
      " 5   MOTHER  1 non-null      float64\n",
      " 6   MC_DOB  1 non-null      object \n",
      "dtypes: float64(1), int64(2), object(4)\n",
      "memory usage: 146.4+ KB\n",
      "None\n"
     ]
    },
    {
     "data": {
      "text/html": [
       "<div>\n",
       "<style scoped>\n",
       "    .dataframe tbody tr th:only-of-type {\n",
       "        vertical-align: middle;\n",
       "    }\n",
       "\n",
       "    .dataframe tbody tr th {\n",
       "        vertical-align: top;\n",
       "    }\n",
       "\n",
       "    .dataframe thead th {\n",
       "        text-align: right;\n",
       "    }\n",
       "</style>\n",
       "<table border=\"1\" class=\"dataframe\">\n",
       "  <thead>\n",
       "    <tr style=\"text-align: right;\">\n",
       "      <th></th>\n",
       "      <th>CHILD</th>\n",
       "      <th>SEX</th>\n",
       "      <th>MOTHER</th>\n",
       "    </tr>\n",
       "  </thead>\n",
       "  <tbody>\n",
       "    <tr>\n",
       "      <th>count</th>\n",
       "      <td>2675.000000</td>\n",
       "      <td>2675.000000</td>\n",
       "      <td>1.0</td>\n",
       "    </tr>\n",
       "    <tr>\n",
       "      <th>mean</th>\n",
       "      <td>501946.342430</td>\n",
       "      <td>1.501682</td>\n",
       "      <td>1.0</td>\n",
       "    </tr>\n",
       "    <tr>\n",
       "      <th>std</th>\n",
       "      <td>288753.842589</td>\n",
       "      <td>0.500091</td>\n",
       "      <td>NaN</td>\n",
       "    </tr>\n",
       "    <tr>\n",
       "      <th>min</th>\n",
       "      <td>32.000000</td>\n",
       "      <td>1.000000</td>\n",
       "      <td>1.0</td>\n",
       "    </tr>\n",
       "    <tr>\n",
       "      <th>25%</th>\n",
       "      <td>247684.000000</td>\n",
       "      <td>1.000000</td>\n",
       "      <td>1.0</td>\n",
       "    </tr>\n",
       "    <tr>\n",
       "      <th>50%</th>\n",
       "      <td>510000.000000</td>\n",
       "      <td>2.000000</td>\n",
       "      <td>1.0</td>\n",
       "    </tr>\n",
       "    <tr>\n",
       "      <th>75%</th>\n",
       "      <td>757149.500000</td>\n",
       "      <td>2.000000</td>\n",
       "      <td>1.0</td>\n",
       "    </tr>\n",
       "    <tr>\n",
       "      <th>max</th>\n",
       "      <td>999397.000000</td>\n",
       "      <td>2.000000</td>\n",
       "      <td>1.0</td>\n",
       "    </tr>\n",
       "  </tbody>\n",
       "</table>\n",
       "</div>"
      ],
      "text/plain": [
       "               CHILD          SEX  MOTHER\n",
       "count    2675.000000  2675.000000     1.0\n",
       "mean   501946.342430     1.501682     1.0\n",
       "std    288753.842589     0.500091     NaN\n",
       "min        32.000000     1.000000     1.0\n",
       "25%    247684.000000     1.000000     1.0\n",
       "50%    510000.000000     2.000000     1.0\n",
       "75%    757149.500000     2.000000     1.0\n",
       "max    999397.000000     2.000000     1.0"
      ]
     },
     "execution_count": 65,
     "metadata": {},
     "output_type": "execute_result"
    }
   ],
   "source": [
    "print(header_fake.info())\n",
    "header_fake.describe()"
   ]
  },
  {
   "cell_type": "code",
   "execution_count": 67,
   "metadata": {},
   "outputs": [
    {
     "name": "stdout",
     "output_type": "stream",
     "text": [
      "   Col1 Col2 Col3\n",
      "0     1    A  foo\n",
      "1     2    B  bar\n",
      "2     3    C  baz\n",
      "   column1 column2 column3\n",
      "0        1       A     foo\n",
      "1        2       B     bar\n",
      "2       13       C     baz\n"
     ]
    }
   ],
   "source": [
    "# dict of lists\n",
    "d_1 = {'Col1':[1,2,3],\n",
    "       'Col2':['A','B','C'],\n",
    "       'Col3':['foo','bar','baz']}\n",
    "\n",
    "df_1 = pd.DataFrame(d_1)\n",
    "print(df_1)\n",
    "\n",
    "# list of dicts\n",
    "df_2 = pd.DataFrame([\n",
    "    {'column1':1,\n",
    "     'column2':'A',\n",
    "     'column3':'foo'},\n",
    "     {'column1':2,\n",
    "     'column2':'B',\n",
    "     'column3':'bar'},\n",
    "     {'column1':13,\n",
    "     'column2':'C',\n",
    "     'column3':'baz'}\n",
    "]\n",
    "\n",
    ")\n",
    "print(df_2)"
   ]
  },
  {
   "cell_type": "code",
   "execution_count": 68,
   "metadata": {},
   "outputs": [
    {
     "name": "stdout",
     "output_type": "stream",
     "text": [
      "  Forename    Surname Salary                           Job title\n",
      "0    Dawid      Tycki  48000                Intelligence Analyst\n",
      "1     Doug      Sharp  49000             BO Intelligence Analyst\n",
      "2    Soana       Pole  55000  Intelligence Analyst - Team leader\n",
      "3   Paloma      Casey  49000          MARVE Intelligence Analyst\n",
      "4     Pete  Leaworthy  47000            SEN Intelligence Analyst\n"
     ]
    }
   ],
   "source": [
    "employees = pd.DataFrame([\n",
    "    {'Forename':'Dawid',\n",
    "     'Surname':'Tycki',\n",
    "     'Salary':'48000',\n",
    "     'Job title':'Intelligence Analyst'},\n",
    "     {'Forename':'Doug',\n",
    "     'Surname':'Sharp',\n",
    "     'Salary':'49000',\n",
    "     'Job title':'BO Intelligence Analyst'},\n",
    "     {'Forename':'Soana',\n",
    "     'Surname':'Pole',\n",
    "     'Salary':'55000',\n",
    "     'Job title':'Intelligence Analyst - Team leader'},\n",
    "     {'Forename':'Paloma',\n",
    "     'Surname':'Casey',\n",
    "     'Salary':'49000',\n",
    "     'Job title':'MARVE Intelligence Analyst'},\n",
    "     {'Forename':'Pete',\n",
    "     'Surname':'Leaworthy',\n",
    "     'Salary':'47000',\n",
    "     'Job title':'SEN Intelligence Analyst'}\n",
    "\n",
    "]\n",
    ")\n",
    "print(employees)"
   ]
  },
  {
   "cell_type": "code",
   "execution_count": 69,
   "metadata": {},
   "outputs": [
    {
     "name": "stdout",
     "output_type": "stream",
     "text": [
      "<class 'pandas.core.frame.DataFrame'>\n",
      "RangeIndex: 5 entries, 0 to 4\n",
      "Data columns (total 4 columns):\n",
      " #   Column     Non-Null Count  Dtype \n",
      "---  ------     --------------  ----- \n",
      " 0   Forename   5 non-null      object\n",
      " 1   Surname    5 non-null      object\n",
      " 2   Salary     5 non-null      object\n",
      " 3   Job title  5 non-null      object\n",
      "dtypes: object(4)\n",
      "memory usage: 288.0+ bytes\n"
     ]
    }
   ],
   "source": [
    "employees.info()"
   ]
  },
  {
   "cell_type": "code",
   "execution_count": 72,
   "metadata": {},
   "outputs": [
    {
     "name": "stdout",
     "output_type": "stream",
     "text": [
      "0    48000\n",
      "1    49000\n",
      "2    55000\n",
      "3    49000\n",
      "4    47000\n",
      "Name: Salary, dtype: object\n",
      "     Surname                           Job title\n",
      "0      Tycki                Intelligence Analyst\n",
      "1      Sharp             BO Intelligence Analyst\n",
      "2       Pole  Intelligence Analyst - Team leader\n",
      "3      Casey          MARVE Intelligence Analyst\n",
      "4  Leaworthy            SEN Intelligence Analyst\n"
     ]
    }
   ],
   "source": [
    "print(employees['Salary'])\n",
    "print(employees[['Surname','Job title']])"
   ]
  },
  {
   "cell_type": "code",
   "execution_count": 73,
   "metadata": {},
   "outputs": [
    {
     "name": "stdout",
     "output_type": "stream",
     "text": [
      "Forename     object\n",
      "Surname      object\n",
      "Salary        int64\n",
      "Job title    object\n",
      "dtype: object\n"
     ]
    }
   ],
   "source": [
    "employees['Salary'] = employees['Salary'].astype('int')\n",
    "print(employees.dtypes)\n"
   ]
  },
  {
   "cell_type": "code",
   "execution_count": 75,
   "metadata": {},
   "outputs": [
    {
     "name": "stdout",
     "output_type": "stream",
     "text": [
      "The mean salary is: 49600.0\n",
      "The total salary is: 248000\n",
      "The max and min salaries respectively are 55000, 47000\n"
     ]
    }
   ],
   "source": [
    "mean_salary = employees['Salary'].mean()\n",
    "sum_salary = employees['Salary'].sum()\n",
    "max_salary = employees['Salary'].max()\n",
    "min_salary = employees['Salary'].min()\n",
    "\n",
    "print(f\"The mean salary is: {mean_salary}\")\n",
    "print(f\"The total salary is: {sum_salary}\")\n",
    "print(f\"The max and min salaries respectively are {max_salary}, {min_salary}\")"
   ]
  },
  {
   "cell_type": "code",
   "execution_count": 78,
   "metadata": {},
   "outputs": [
    {
     "data": {
      "text/html": [
       "<div>\n",
       "<style scoped>\n",
       "    .dataframe tbody tr th:only-of-type {\n",
       "        vertical-align: middle;\n",
       "    }\n",
       "\n",
       "    .dataframe tbody tr th {\n",
       "        vertical-align: top;\n",
       "    }\n",
       "\n",
       "    .dataframe thead th {\n",
       "        text-align: right;\n",
       "    }\n",
       "</style>\n",
       "<table border=\"1\" class=\"dataframe\">\n",
       "  <thead>\n",
       "    <tr style=\"text-align: right;\">\n",
       "      <th></th>\n",
       "      <th>Salary</th>\n",
       "    </tr>\n",
       "  </thead>\n",
       "  <tbody>\n",
       "    <tr>\n",
       "      <th>count</th>\n",
       "      <td>5.000000</td>\n",
       "    </tr>\n",
       "    <tr>\n",
       "      <th>mean</th>\n",
       "      <td>49600.000000</td>\n",
       "    </tr>\n",
       "    <tr>\n",
       "      <th>std</th>\n",
       "      <td>3130.495168</td>\n",
       "    </tr>\n",
       "    <tr>\n",
       "      <th>min</th>\n",
       "      <td>47000.000000</td>\n",
       "    </tr>\n",
       "    <tr>\n",
       "      <th>25%</th>\n",
       "      <td>48000.000000</td>\n",
       "    </tr>\n",
       "    <tr>\n",
       "      <th>50%</th>\n",
       "      <td>49000.000000</td>\n",
       "    </tr>\n",
       "    <tr>\n",
       "      <th>75%</th>\n",
       "      <td>49000.000000</td>\n",
       "    </tr>\n",
       "    <tr>\n",
       "      <th>max</th>\n",
       "      <td>55000.000000</td>\n",
       "    </tr>\n",
       "  </tbody>\n",
       "</table>\n",
       "</div>"
      ],
      "text/plain": [
       "             Salary\n",
       "count      5.000000\n",
       "mean   49600.000000\n",
       "std     3130.495168\n",
       "min    47000.000000\n",
       "25%    48000.000000\n",
       "50%    49000.000000\n",
       "75%    49000.000000\n",
       "max    55000.000000"
      ]
     },
     "execution_count": 78,
     "metadata": {},
     "output_type": "execute_result"
    }
   ],
   "source": [
    "employees.describe()"
   ]
  },
  {
   "cell_type": "code",
   "execution_count": null,
   "metadata": {},
   "outputs": [],
   "source": []
  }
 ],
 "metadata": {
  "kernelspec": {
   "display_name": "Python 3",
   "language": "python",
   "name": "python3"
  },
  "language_info": {
   "codemirror_mode": {
    "name": "ipython",
    "version": 3
   },
   "file_extension": ".py",
   "mimetype": "text/x-python",
   "name": "python",
   "nbconvert_exporter": "python",
   "pygments_lexer": "ipython3",
   "version": "3.10.13"
  }
 },
 "nbformat": 4,
 "nbformat_minor": 2
}
