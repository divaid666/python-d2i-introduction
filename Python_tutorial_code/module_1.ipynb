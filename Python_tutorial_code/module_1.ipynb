{
 "cells": [
  {
   "cell_type": "code",
   "execution_count": 4,
   "metadata": {},
   "outputs": [
    {
     "name": "stdout",
     "output_type": "stream",
     "text": [
      "15\n"
     ]
    }
   ],
   "source": [
    "x = 5\n",
    "y = 10\n",
    "\n",
    "\n",
    "sum = x + y\n",
    "print(sum)"
   ]
  },
  {
   "cell_type": "code",
   "execution_count": 12,
   "metadata": {},
   "outputs": [
    {
     "name": "stdout",
     "output_type": "stream",
     "text": [
      "100000\n",
      "50\n",
      "0.5\n"
     ]
    }
   ],
   "source": [
    "x = 10\n",
    "y = 5\n",
    "print(x**y)\n",
    "print(y*x)\n",
    "print(y/x)"
   ]
  },
  {
   "cell_type": "code",
   "execution_count": 13,
   "metadata": {},
   "outputs": [
    {
     "data": {
      "text/plain": [
       "float"
      ]
     },
     "execution_count": 13,
     "metadata": {},
     "output_type": "execute_result"
    }
   ],
   "source": [
    "x = 10.5\n",
    "y = 5\n",
    "z = x + y\n",
    "type (z)"
   ]
  },
  {
   "cell_type": "code",
   "execution_count": 14,
   "metadata": {},
   "outputs": [
    {
     "data": {
      "text/plain": [
       "float"
      ]
     },
     "execution_count": 14,
     "metadata": {},
     "output_type": "execute_result"
    }
   ],
   "source": [
    "type(x)"
   ]
  },
  {
   "cell_type": "code",
   "execution_count": 16,
   "metadata": {},
   "outputs": [
    {
     "name": "stdout",
     "output_type": "stream",
     "text": [
      "2030\n"
     ]
    }
   ],
   "source": [
    "a = \"20\"\n",
    "b = \"30\"\n",
    "c = a + b\n",
    "print (c)"
   ]
  },
  {
   "cell_type": "code",
   "execution_count": 17,
   "metadata": {},
   "outputs": [
    {
     "name": "stdout",
     "output_type": "stream",
     "text": [
      "12.56\n"
     ]
    }
   ],
   "source": [
    "r = 2\n",
    "pi = 3.14\n",
    "area = pi*r**2\n",
    "print(area)"
   ]
  },
  {
   "cell_type": "code",
   "execution_count": 26,
   "metadata": {},
   "outputs": [
    {
     "name": "stdout",
     "output_type": "stream",
     "text": [
      "My name is Dawid and I am a Intellignce Analyst\n",
      "My name is Dawid and I am a Intellignce Analyst\n"
     ]
    }
   ],
   "source": [
    "name = 'Dawid'\n",
    "job = 'Intellignce Analyst'\n",
    "\n",
    "longer_string = \"My name is \"+ name + \" \" + \"and I am a \" + job\n",
    "print(longer_string)\n",
    "\n",
    "\n",
    "# super useful - f string\n",
    "phrase = f\"My name is {name} and I am a {job}\"\n",
    "print(phrase)"
   ]
  },
  {
   "cell_type": "code",
   "execution_count": 27,
   "metadata": {},
   "outputs": [
    {
     "name": "stdout",
     "output_type": "stream",
     "text": [
      "My favouring player is Steph Curry and he plays for the team called Golden State Warriors\n"
     ]
    }
   ],
   "source": [
    "name = 'Steph'\n",
    "surname = 'Curry'\n",
    "team = \"Golden State Warriors\"\n",
    "\n",
    "phrase = f\"My favouring player is {name} {surname} and he plays for the team called {team}\"\n",
    "\n",
    "print(phrase)"
   ]
  },
  {
   "cell_type": "code",
   "execution_count": 31,
   "metadata": {},
   "outputs": [
    {
     "name": "stdout",
     "output_type": "stream",
     "text": [
      " The rate of cin plans per 10k children is 444.0\n"
     ]
    }
   ],
   "source": [
    "cin_plan = 666\n",
    "total_pop = 15000\n",
    "rp10k = (cin_plan / total_pop) * 10000\n",
    "explanations = f\" The rate of cin plans per 10k children is {rp10k}\"\n",
    "print(explanations)"
   ]
  },
  {
   "cell_type": "code",
   "execution_count": 40,
   "metadata": {},
   "outputs": [
    {
     "name": "stdout",
     "output_type": "stream",
     "text": [
      "c://desktop/data/903_header.csv\n",
      "p\n",
      "data/903\n",
      ".csv\n",
      "903_header\n",
      "The file name is: 903_header\n"
     ]
    }
   ],
   "source": [
    "filename = \"c://desktop/data/903_header.csv\"\n",
    "print(filename)\n",
    "\n",
    "substring = filename[10]\n",
    "print(substring)\n",
    "\n",
    "substring2 = filename[12:20]\n",
    "print(substring2)\n",
    "\n",
    "substring3 = filename[-4:]\n",
    "print(substring3)\n",
    "\n",
    "substring4 = filename[17:-4]\n",
    "print(substring4)\n",
    "\n",
    "long_phrase = f\"The file name is: {substring4}\"\n",
    "print(long_phrase)"
   ]
  },
  {
   "cell_type": "code",
   "execution_count": 42,
   "metadata": {},
   "outputs": [
    {
     "name": "stdout",
     "output_type": "stream",
     "text": [
      "ikcyT diwaD\n"
     ]
    }
   ],
   "source": [
    "phrase = \"Dawid Tycki\"\n",
    "reversed = phrase[-1::-1]\n",
    "print(reversed)"
   ]
  },
  {
   "cell_type": "code",
   "execution_count": 53,
   "metadata": {},
   "outputs": [
    {
     "name": "stdout",
     "output_type": "stream",
     "text": [
      "dog\n",
      "cat\n",
      "racoon\n"
     ]
    }
   ],
   "source": [
    "slice_this_phrase = 'dog cat racoon'\n",
    "\n",
    "d = slice_this_phrase[0:3]\n",
    "c = slice_this_phrase[4:7]\n",
    "r = slice_this_phrase[8:]\n",
    "print(d)\n",
    "print(c)\n",
    "print(r)"
   ]
  },
  {
   "cell_type": "code",
   "execution_count": 61,
   "metadata": {},
   "outputs": [
    {
     "name": "stdout",
     "output_type": "stream",
     "text": [
      "<class 'list'>\n",
      "[1, 2, 3, 4, 'Dawid Tycki', 'The file name is: 903_header', 'hi', 'dog', 'cat', 'dog']\n"
     ]
    }
   ],
   "source": [
    "list_1 = [1,2,3,4,phrase,long_phrase,\"hi\",d,c,d]\n",
    "print(type(list_1))\n",
    "print(list_1)\n"
   ]
  },
  {
   "cell_type": "code",
   "execution_count": 67,
   "metadata": {},
   "outputs": [
    {
     "name": "stdout",
     "output_type": "stream",
     "text": [
      "['red', 'blue', 'green', 'purple']\n",
      "['purple', 'green', 'blue', 'red']\n",
      "['green', 'purple']\n"
     ]
    }
   ],
   "source": [
    "colours = ['red','blue','green','purple']\n",
    "print(colours)\n",
    "print(colours[-1::-1])\n",
    "print(colours[2:])\n",
    "\n"
   ]
  },
  {
   "cell_type": "code",
   "execution_count": 75,
   "metadata": {},
   "outputs": [
    {
     "name": "stdout",
     "output_type": "stream",
     "text": [
      "['red', 'blue', 'green', 'purple', ['teal', 'orange']]\n",
      "['teal', 'orange']\n",
      "teal\n"
     ]
    }
   ],
   "source": [
    "colours = ['red','blue','green','purple']\n",
    "colours.append(['teal','orange'])  #append will add not as elements but as a list within a list, use extend instead\n",
    "print(colours)\n",
    "print(colours[4])\n",
    "print(colours[4][0])"
   ]
  },
  {
   "cell_type": "code",
   "execution_count": 80,
   "metadata": {},
   "outputs": [
    {
     "name": "stdout",
     "output_type": "stream",
     "text": [
      "['red', 'blue', 'green', 'purple', 'bronw', 'gold', 'white']\n",
      "['red', 'blue', 'green', 'purple', 'bronw', 'gold', 'white', 'gold']\n"
     ]
    }
   ],
   "source": [
    "colours = ['red','blue','green','purple']\n",
    "more_colours = ['bronw','gold','white']\n",
    "\n",
    "colours.extend(more_colours)\n",
    "print(colours)\n",
    "colours.append('gold')\n",
    "print(colours)"
   ]
  },
  {
   "cell_type": "code",
   "execution_count": 82,
   "metadata": {},
   "outputs": [
    {
     "name": "stdout",
     "output_type": "stream",
     "text": [
      "['blue', 'green', 'purple', 'bronw', 'white', 'gold']\n"
     ]
    }
   ],
   "source": [
    "colours.remove('gold') # removes the first instance of 'gold'\n",
    "print(colours)"
   ]
  },
  {
   "cell_type": "code",
   "execution_count": null,
   "metadata": {},
   "outputs": [],
   "source": [
    "my_string = \"here's a string\""
   ]
  }
 ],
 "metadata": {
  "kernelspec": {
   "display_name": "Python 3",
   "language": "python",
   "name": "python3"
  },
  "language_info": {
   "codemirror_mode": {
    "name": "ipython",
    "version": 3
   },
   "file_extension": ".py",
   "mimetype": "text/x-python",
   "name": "python",
   "nbconvert_exporter": "python",
   "pygments_lexer": "ipython3",
   "version": "3.10.13"
  }
 },
 "nbformat": 4,
 "nbformat_minor": 2
}
