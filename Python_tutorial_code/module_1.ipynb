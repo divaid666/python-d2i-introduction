{
 "cells": [
  {
   "cell_type": "code",
   "execution_count": 1,
   "metadata": {},
   "outputs": [
    {
     "name": "stdout",
     "output_type": "stream",
     "text": [
      "15\n"
     ]
    }
   ],
   "source": [
    "x = 5\n",
    "y = 10\n",
    "\n",
    "\n",
    "sum = x + y\n",
    "print(sum)"
   ]
  },
  {
   "cell_type": "code",
   "execution_count": 2,
   "metadata": {},
   "outputs": [
    {
     "name": "stdout",
     "output_type": "stream",
     "text": [
      "100000\n",
      "50\n",
      "0.5\n"
     ]
    }
   ],
   "source": [
    "x = 10\n",
    "y = 5\n",
    "print(x**y)\n",
    "print(y*x)\n",
    "print(y/x)"
   ]
  },
  {
   "cell_type": "code",
   "execution_count": 3,
   "metadata": {},
   "outputs": [
    {
     "data": {
      "text/plain": [
       "float"
      ]
     },
     "execution_count": 3,
     "metadata": {},
     "output_type": "execute_result"
    }
   ],
   "source": [
    "x = 10.5\n",
    "y = 5\n",
    "z = x + y\n",
    "type (z)"
   ]
  },
  {
   "cell_type": "code",
   "execution_count": 4,
   "metadata": {},
   "outputs": [
    {
     "data": {
      "text/plain": [
       "float"
      ]
     },
     "execution_count": 4,
     "metadata": {},
     "output_type": "execute_result"
    }
   ],
   "source": [
    "type(x)"
   ]
  },
  {
   "cell_type": "code",
   "execution_count": 5,
   "metadata": {},
   "outputs": [
    {
     "name": "stdout",
     "output_type": "stream",
     "text": [
      "2030\n"
     ]
    }
   ],
   "source": [
    "a = \"20\"\n",
    "b = \"30\"\n",
    "c = a + b\n",
    "print (c)"
   ]
  },
  {
   "cell_type": "code",
   "execution_count": 6,
   "metadata": {},
   "outputs": [
    {
     "name": "stdout",
     "output_type": "stream",
     "text": [
      "12.56\n"
     ]
    }
   ],
   "source": [
    "r = 2\n",
    "pi = 3.14\n",
    "area = pi*r**2\n",
    "print(area)"
   ]
  },
  {
   "cell_type": "code",
   "execution_count": 7,
   "metadata": {},
   "outputs": [
    {
     "name": "stdout",
     "output_type": "stream",
     "text": [
      "My name is Dawid and I am a Intellignce Analyst\n",
      "My name is Dawid and I am a Intellignce Analyst\n"
     ]
    }
   ],
   "source": [
    "name = 'Dawid'\n",
    "job = 'Intellignce Analyst'\n",
    "\n",
    "longer_string = \"My name is \"+ name + \" \" + \"and I am a \" + job\n",
    "print(longer_string)\n",
    "\n",
    "\n",
    "# super useful - f string\n",
    "phrase = f\"My name is {name} and I am a {job}\"\n",
    "print(phrase)"
   ]
  },
  {
   "cell_type": "code",
   "execution_count": 8,
   "metadata": {},
   "outputs": [
    {
     "name": "stdout",
     "output_type": "stream",
     "text": [
      "My favouring player is Steph Curry and he plays for the team called Golden State Warriors\n"
     ]
    }
   ],
   "source": [
    "name = 'Steph'\n",
    "surname = 'Curry'\n",
    "team = \"Golden State Warriors\"\n",
    "\n",
    "phrase = f\"My favouring player is {name} {surname} and he plays for the team called {team}\"\n",
    "\n",
    "print(phrase)"
   ]
  },
  {
   "cell_type": "code",
   "execution_count": 9,
   "metadata": {},
   "outputs": [
    {
     "name": "stdout",
     "output_type": "stream",
     "text": [
      " The rate of cin plans per 10k children is 444.0\n"
     ]
    }
   ],
   "source": [
    "cin_plan = 666\n",
    "total_pop = 15000\n",
    "rp10k = (cin_plan / total_pop) * 10000\n",
    "explanations = f\" The rate of cin plans per 10k children is {rp10k}\"\n",
    "print(explanations)"
   ]
  },
  {
   "cell_type": "code",
   "execution_count": 10,
   "metadata": {},
   "outputs": [
    {
     "name": "stdout",
     "output_type": "stream",
     "text": [
      "c://desktop/data/903_header.csv\n",
      "p\n",
      "data/903\n",
      ".csv\n",
      "903_header\n",
      "The file name is: 903_header\n"
     ]
    }
   ],
   "source": [
    "filename = \"c://desktop/data/903_header.csv\"\n",
    "print(filename)\n",
    "\n",
    "substring = filename[10]\n",
    "print(substring)\n",
    "\n",
    "substring2 = filename[12:20]\n",
    "print(substring2)\n",
    "\n",
    "substring3 = filename[-4:]\n",
    "print(substring3)\n",
    "\n",
    "substring4 = filename[17:-4]\n",
    "print(substring4)\n",
    "\n",
    "long_phrase = f\"The file name is: {substring4}\"\n",
    "print(long_phrase)"
   ]
  },
  {
   "cell_type": "code",
   "execution_count": 11,
   "metadata": {},
   "outputs": [
    {
     "name": "stdout",
     "output_type": "stream",
     "text": [
      "ikcyT diwaD\n"
     ]
    }
   ],
   "source": [
    "phrase = \"Dawid Tycki\"\n",
    "reversed = phrase[-1::-1]\n",
    "print(reversed)"
   ]
  },
  {
   "cell_type": "code",
   "execution_count": 12,
   "metadata": {},
   "outputs": [
    {
     "name": "stdout",
     "output_type": "stream",
     "text": [
      "dog\n",
      "cat\n",
      "racoon\n"
     ]
    }
   ],
   "source": [
    "slice_this_phrase = 'dog cat racoon'\n",
    "\n",
    "d = slice_this_phrase[0:3]\n",
    "c = slice_this_phrase[4:7]\n",
    "r = slice_this_phrase[8:]\n",
    "print(d)\n",
    "print(c)\n",
    "print(r)"
   ]
  },
  {
   "cell_type": "code",
   "execution_count": 13,
   "metadata": {},
   "outputs": [
    {
     "name": "stdout",
     "output_type": "stream",
     "text": [
      "<class 'list'>\n",
      "[1, 2, 3, 4, 'Dawid Tycki', 'The file name is: 903_header', 'hi', 'dog', 'cat', 'dog']\n"
     ]
    }
   ],
   "source": [
    "list_1 = [1,2,3,4,phrase,long_phrase,\"hi\",d,c,d]\n",
    "print(type(list_1))\n",
    "print(list_1)\n"
   ]
  },
  {
   "cell_type": "code",
   "execution_count": 14,
   "metadata": {},
   "outputs": [
    {
     "name": "stdout",
     "output_type": "stream",
     "text": [
      "['red', 'blue', 'green', 'purple']\n",
      "['purple', 'green', 'blue', 'red']\n",
      "['green', 'purple']\n"
     ]
    }
   ],
   "source": [
    "colours = ['red','blue','green','purple']\n",
    "print(colours)\n",
    "print(colours[-1::-1])\n",
    "print(colours[2:])\n",
    "\n"
   ]
  },
  {
   "cell_type": "code",
   "execution_count": 15,
   "metadata": {},
   "outputs": [
    {
     "name": "stdout",
     "output_type": "stream",
     "text": [
      "['red', 'blue', 'green', 'purple', ['teal', 'orange']]\n",
      "['teal', 'orange']\n",
      "teal\n"
     ]
    }
   ],
   "source": [
    "colours = ['red','blue','green','purple']\n",
    "colours.append(['teal','orange'])  #append will add not as elements but as a list within a list, use extend instead\n",
    "print(colours)\n",
    "print(colours[4])\n",
    "print(colours[4][0])"
   ]
  },
  {
   "cell_type": "code",
   "execution_count": 16,
   "metadata": {},
   "outputs": [
    {
     "name": "stdout",
     "output_type": "stream",
     "text": [
      "['red', 'blue', 'green', 'purple', 'bronw', 'gold', 'white']\n",
      "['red', 'blue', 'green', 'purple', 'bronw', 'gold', 'white', 'gold']\n"
     ]
    }
   ],
   "source": [
    "colours = ['red','blue','green','purple']\n",
    "more_colours = ['bronw','gold','white']\n",
    "\n",
    "colours.extend(more_colours)\n",
    "print(colours)\n",
    "colours.append('gold')\n",
    "print(colours)"
   ]
  },
  {
   "cell_type": "code",
   "execution_count": 17,
   "metadata": {},
   "outputs": [
    {
     "name": "stdout",
     "output_type": "stream",
     "text": [
      "['red', 'blue', 'green', 'purple', 'bronw', 'white', 'gold']\n"
     ]
    }
   ],
   "source": [
    "colours.remove('gold') # removes the first instance of 'gold'\n",
    "print(colours)"
   ]
  },
  {
   "cell_type": "code",
   "execution_count": 18,
   "metadata": {},
   "outputs": [],
   "source": [
    "my_string = \"here's a string\""
   ]
  },
  {
   "cell_type": "markdown",
   "metadata": {},
   "source": [
    "Session 2"
   ]
  },
  {
   "cell_type": "code",
   "execution_count": 19,
   "metadata": {},
   "outputs": [
    {
     "name": "stdout",
     "output_type": "stream",
     "text": [
      "<class 'list'>\n"
     ]
    },
    {
     "data": {
      "text/plain": [
       "[1, 2, 3, 4, [10, 11, 23], 4, 6, 6, 6, 6, 6]"
      ]
     },
     "execution_count": 19,
     "metadata": {},
     "output_type": "execute_result"
    }
   ],
   "source": [
    "num_1 = 1\n",
    "num_2 = 2.0\n",
    "name = 'Dawid'\n",
    "list_x = [1,2,3,4]\n",
    "\n",
    "print(type(list_x))\n",
    "\n",
    "list_x.append([10,11,23])\n",
    "list_x.extend([4,6,6,6,6,6])\n",
    "list_x\n"
   ]
  },
  {
   "cell_type": "code",
   "execution_count": 20,
   "metadata": {},
   "outputs": [
    {
     "data": {
      "text/plain": [
       "[2, 4, 4, 6, 6]"
      ]
     },
     "execution_count": 20,
     "metadata": {},
     "output_type": "execute_result"
    }
   ],
   "source": [
    "list_x[1::2]"
   ]
  },
  {
   "cell_type": "code",
   "execution_count": 21,
   "metadata": {},
   "outputs": [
    {
     "name": "stdout",
     "output_type": "stream",
     "text": [
      "range(0, 11)\n"
     ]
    }
   ],
   "source": [
    "list_2 = range(11)\n",
    "print(list_2)"
   ]
  },
  {
   "cell_type": "code",
   "execution_count": 22,
   "metadata": {},
   "outputs": [
    {
     "name": "stdout",
     "output_type": "stream",
     "text": [
      "[0, 1, 2, 3, 4, 5, 6, 7, 8, 9, 10]\n"
     ]
    }
   ],
   "source": [
    "list_2 = list(range(11))\n",
    "print(list_2)"
   ]
  },
  {
   "cell_type": "code",
   "execution_count": 23,
   "metadata": {},
   "outputs": [
    {
     "name": "stdout",
     "output_type": "stream",
     "text": [
      "<class 'str'>\n"
     ]
    }
   ],
   "source": [
    "num_2 = str(num_2)\n",
    "print(type(num_2))"
   ]
  },
  {
   "cell_type": "code",
   "execution_count": 24,
   "metadata": {},
   "outputs": [
    {
     "name": "stdout",
     "output_type": "stream",
     "text": [
      "<class 'float'>\n"
     ]
    }
   ],
   "source": [
    "num_2 = float(num_2)  # as this string was 2.0, we cannot convert it to int - othwersie, convert str to float to int\n",
    "print(type(num_2))"
   ]
  },
  {
   "cell_type": "code",
   "execution_count": 25,
   "metadata": {},
   "outputs": [
    {
     "name": "stdout",
     "output_type": "stream",
     "text": [
      "[2, 4, 3, 5, 1, 6]\n"
     ]
    }
   ],
   "source": [
    "numbers_list = [2,4,3,5,1,6]\n",
    "print(numbers_list)"
   ]
  },
  {
   "cell_type": "code",
   "execution_count": 26,
   "metadata": {},
   "outputs": [
    {
     "name": "stdout",
     "output_type": "stream",
     "text": [
      "[1, 2, 3, 4, 5, 6]\n",
      "[6, 5, 4, 3, 2, 1]\n"
     ]
    }
   ],
   "source": [
    "numbers_list.sort()\n",
    "print(numbers_list)\n",
    "\n",
    "numbers_list.sort(reverse=True)\n",
    "print(numbers_list)"
   ]
  },
  {
   "cell_type": "code",
   "execution_count": 27,
   "metadata": {},
   "outputs": [
    {
     "name": "stdout",
     "output_type": "stream",
     "text": [
      "<class 'dict'>\n"
     ]
    }
   ],
   "source": [
    "dict_1 = {'key1':'value','key2':'value'} # each pair is an entry\n",
    "print(type(dict_1))"
   ]
  },
  {
   "cell_type": "code",
   "execution_count": 28,
   "metadata": {},
   "outputs": [],
   "source": [
    "dawid= {'Name':'Dawid',\n",
    "        'Job title':'Analyst',\n",
    "        'Hours':'36',\n",
    "        'Salary':50}\n",
    "\n",
    "\n",
    "colours_dict = {'Will':dawid,\n",
    "                'Roman':['black','blue'],\n",
    "                'Daniela':14,\n",
    "                'Julka':{'Monday':'Red',\n",
    "                         'Sunday':'Orange',\n",
    "                         'Others':'Black'}}"
   ]
  },
  {
   "cell_type": "code",
   "execution_count": 29,
   "metadata": {},
   "outputs": [],
   "source": [
    "foods = {'KFC':['Buckets','fillets'],\n",
    "         'Mac':'burgers',\n",
    "         'Wendys':{'Weekdays':'ultra processed',\n",
    "                   'Weekends':'super healthy'},\n",
    "        'Domek':'mama food'}"
   ]
  },
  {
   "cell_type": "code",
   "execution_count": 30,
   "metadata": {},
   "outputs": [
    {
     "name": "stdout",
     "output_type": "stream",
     "text": [
      "dict_keys(['KFC', 'Mac', 'Wendys', 'Domek'])\n",
      "dict_values([['Buckets', 'fillets'], 'burgers', {'Weekdays': 'ultra processed', 'Weekends': 'super healthy'}, 'mama food'])\n",
      "dict_items([('KFC', ['Buckets', 'fillets']), ('Mac', 'burgers'), ('Wendys', {'Weekdays': 'ultra processed', 'Weekends': 'super healthy'}), ('Domek', 'mama food')])\n",
      "False\n",
      "True\n"
     ]
    }
   ],
   "source": [
    "print(foods.keys())\n",
    "print(foods.values())\n",
    "\n",
    "print(foods.items())  # items of tuples\n",
    "\n",
    "print('Curry house' in foods)\n",
    "print('Wendys' in foods)"
   ]
  },
  {
   "cell_type": "code",
   "execution_count": 31,
   "metadata": {},
   "outputs": [
    {
     "data": {
      "text/plain": [
       "{'Weekdays': 'ultra processed', 'Weekends': 'super healthy'}"
      ]
     },
     "execution_count": 31,
     "metadata": {},
     "output_type": "execute_result"
    }
   ],
   "source": [
    "foods['Wendys']"
   ]
  },
  {
   "cell_type": "code",
   "execution_count": 32,
   "metadata": {},
   "outputs": [
    {
     "data": {
      "text/plain": [
       "{'KFC': ['Buckets', 'fillets'],\n",
       " 'Mac': 'burgers',\n",
       " 'Wendys': {'Weekdays': 'ultra processed', 'Weekends': 'super healthy'},\n",
       " 'Domek': 'mama food',\n",
       " 'Kebab shop': 'Kebabs'}"
      ]
     },
     "execution_count": 32,
     "metadata": {},
     "output_type": "execute_result"
    }
   ],
   "source": [
    "foods['Kebab shop'] = 'Kebabs'\n",
    "foods"
   ]
  },
  {
   "cell_type": "code",
   "execution_count": 33,
   "metadata": {},
   "outputs": [
    {
     "data": {
      "text/plain": [
       "{'KFC': ['Buckets', 'fillets'],\n",
       " 'Mac': 'burgers',\n",
       " 'Wendys': {'Weekdays': 'ultra processed', 'Weekends': 'super healthy'},\n",
       " 'Domek': 'mama food',\n",
       " 'Kebab shop': 'Kebabs',\n",
       " \"Joy's food\": ['green curry', 'fried chicken', 'most amazing foods']}"
      ]
     },
     "execution_count": 33,
     "metadata": {},
     "output_type": "execute_result"
    }
   ],
   "source": [
    "foods[\"Joy's food\"] = ['green curry','fried chicken','most amazing foods']\n",
    "foods"
   ]
  },
  {
   "cell_type": "code",
   "execution_count": 34,
   "metadata": {},
   "outputs": [
    {
     "name": "stdout",
     "output_type": "stream",
     "text": [
      "dict_values([['Buckets', 'fillets'], 'burgers', {'Weekdays': 'ultra processed', 'Weekends': 'super healthy'}, 'mama food', 'Kebabs', ['green curry', 'fried chicken', 'most amazing foods']])\n",
      "{'KFC': ['Buckets', 'fillets'], 'Mac': 'burgers', 'Wendys': {'Weekdays': 'ultra processed', 'Weekends': 'super healthy'}, 'Domek': 'mama food', 'Kebab shop': 'Kebabs', \"Joy's food\": ['green curry', 'fried chicken', 'most amazing foods']}\n",
      "dict_items([('KFC', ['Buckets', 'fillets']), ('Mac', 'burgers'), ('Wendys', {'Weekdays': 'ultra processed', 'Weekends': 'super healthy'}), ('Domek', 'mama food'), ('Kebab shop', 'Kebabs'), (\"Joy's food\", ['green curry', 'fried chicken', 'most amazing foods'])])\n"
     ]
    }
   ],
   "source": [
    "print(foods.values())\n",
    "print(foods)\n",
    "print(foods.items())"
   ]
  },
  {
   "cell_type": "code",
   "execution_count": 35,
   "metadata": {},
   "outputs": [],
   "source": [
    "import pandas as pd\n",
    "\n",
    "filepath = 'https://raw.githubusercontent.com/data-to-insight/csc-validator-be-903/main/tests/fake_data/header.csv'\n",
    "\n",
    "header_fake = pd.read_csv(filepath)\n",
    "\n"
   ]
  },
  {
   "cell_type": "code",
   "execution_count": 36,
   "metadata": {},
   "outputs": [
    {
     "name": "stdout",
     "output_type": "stream",
     "text": [
      "    CHILD  SEX         DOB ETHNIC            UPN  MOTHER MC_DOB\n",
      "0  566910    2  27/03/2008   WROM  D051910639385     NaN    NaN\n",
      "1  384923    2  09/09/2011   REFU  L034811502612     NaN    NaN\n",
      "2  709901    1  14/02/2013   ABAN  Y021751958510     NaN    NaN\n",
      "3  550084    2  04/05/2008   AOTH  R095578985099     NaN    NaN\n",
      "4  710229    2  15/04/2002   REFU  Z095096287583     NaN    NaN\n",
      "       CHILD  SEX         DOB ETHNIC            UPN  MOTHER MC_DOB\n",
      "2670  152113    1  06/06/2003   WBRI  K096794376750     NaN    NaN\n",
      "2671  481370    2  12/02/2008   BAFR  C014150452081     NaN    NaN\n",
      "2672  791577    1  28/05/2011   WBRI  Q009369089812     NaN    NaN\n",
      "2673  238470    1  21/11/2013   AIND  P095222532769     NaN    NaN\n",
      "2674  437361    1  15/12/2012   WROM  G018001328504     NaN    NaN\n"
     ]
    }
   ],
   "source": [
    "print(header_fake.head())\n",
    "print(header_fake.tail())\n",
    "\n"
   ]
  },
  {
   "cell_type": "code",
   "execution_count": 37,
   "metadata": {},
   "outputs": [
    {
     "name": "stdout",
     "output_type": "stream",
     "text": [
      "<class 'pandas.core.frame.DataFrame'>\n",
      "RangeIndex: 2675 entries, 0 to 2674\n",
      "Data columns (total 7 columns):\n",
      " #   Column  Non-Null Count  Dtype  \n",
      "---  ------  --------------  -----  \n",
      " 0   CHILD   2675 non-null   int64  \n",
      " 1   SEX     2675 non-null   int64  \n",
      " 2   DOB     2675 non-null   object \n",
      " 3   ETHNIC  2675 non-null   object \n",
      " 4   UPN     2675 non-null   object \n",
      " 5   MOTHER  1 non-null      float64\n",
      " 6   MC_DOB  1 non-null      object \n",
      "dtypes: float64(1), int64(2), object(4)\n",
      "memory usage: 146.4+ KB\n",
      "None\n"
     ]
    },
    {
     "data": {
      "text/html": [
       "<div>\n",
       "<style scoped>\n",
       "    .dataframe tbody tr th:only-of-type {\n",
       "        vertical-align: middle;\n",
       "    }\n",
       "\n",
       "    .dataframe tbody tr th {\n",
       "        vertical-align: top;\n",
       "    }\n",
       "\n",
       "    .dataframe thead th {\n",
       "        text-align: right;\n",
       "    }\n",
       "</style>\n",
       "<table border=\"1\" class=\"dataframe\">\n",
       "  <thead>\n",
       "    <tr style=\"text-align: right;\">\n",
       "      <th></th>\n",
       "      <th>CHILD</th>\n",
       "      <th>SEX</th>\n",
       "      <th>MOTHER</th>\n",
       "    </tr>\n",
       "  </thead>\n",
       "  <tbody>\n",
       "    <tr>\n",
       "      <th>count</th>\n",
       "      <td>2675.000000</td>\n",
       "      <td>2675.000000</td>\n",
       "      <td>1.0</td>\n",
       "    </tr>\n",
       "    <tr>\n",
       "      <th>mean</th>\n",
       "      <td>501946.342430</td>\n",
       "      <td>1.501682</td>\n",
       "      <td>1.0</td>\n",
       "    </tr>\n",
       "    <tr>\n",
       "      <th>std</th>\n",
       "      <td>288753.842589</td>\n",
       "      <td>0.500091</td>\n",
       "      <td>NaN</td>\n",
       "    </tr>\n",
       "    <tr>\n",
       "      <th>min</th>\n",
       "      <td>32.000000</td>\n",
       "      <td>1.000000</td>\n",
       "      <td>1.0</td>\n",
       "    </tr>\n",
       "    <tr>\n",
       "      <th>25%</th>\n",
       "      <td>247684.000000</td>\n",
       "      <td>1.000000</td>\n",
       "      <td>1.0</td>\n",
       "    </tr>\n",
       "    <tr>\n",
       "      <th>50%</th>\n",
       "      <td>510000.000000</td>\n",
       "      <td>2.000000</td>\n",
       "      <td>1.0</td>\n",
       "    </tr>\n",
       "    <tr>\n",
       "      <th>75%</th>\n",
       "      <td>757149.500000</td>\n",
       "      <td>2.000000</td>\n",
       "      <td>1.0</td>\n",
       "    </tr>\n",
       "    <tr>\n",
       "      <th>max</th>\n",
       "      <td>999397.000000</td>\n",
       "      <td>2.000000</td>\n",
       "      <td>1.0</td>\n",
       "    </tr>\n",
       "  </tbody>\n",
       "</table>\n",
       "</div>"
      ],
      "text/plain": [
       "               CHILD          SEX  MOTHER\n",
       "count    2675.000000  2675.000000     1.0\n",
       "mean   501946.342430     1.501682     1.0\n",
       "std    288753.842589     0.500091     NaN\n",
       "min        32.000000     1.000000     1.0\n",
       "25%    247684.000000     1.000000     1.0\n",
       "50%    510000.000000     2.000000     1.0\n",
       "75%    757149.500000     2.000000     1.0\n",
       "max    999397.000000     2.000000     1.0"
      ]
     },
     "execution_count": 37,
     "metadata": {},
     "output_type": "execute_result"
    }
   ],
   "source": [
    "print(header_fake.info())\n",
    "header_fake.describe()"
   ]
  },
  {
   "cell_type": "code",
   "execution_count": 38,
   "metadata": {},
   "outputs": [
    {
     "name": "stdout",
     "output_type": "stream",
     "text": [
      "   Col1 Col2 Col3\n",
      "0     1    A  foo\n",
      "1     2    B  bar\n",
      "2     3    C  baz\n",
      "   column1 column2 column3\n",
      "0        1       A     foo\n",
      "1        2       B     bar\n",
      "2       13       C     baz\n"
     ]
    }
   ],
   "source": [
    "# dict of lists\n",
    "d_1 = {'Col1':[1,2,3],\n",
    "       'Col2':['A','B','C'],\n",
    "       'Col3':['foo','bar','baz']}\n",
    "\n",
    "df_1 = pd.DataFrame(d_1)\n",
    "print(df_1)\n",
    "\n",
    "# list of dicts\n",
    "df_2 = pd.DataFrame([\n",
    "    {'column1':1,\n",
    "     'column2':'A',\n",
    "     'column3':'foo'},\n",
    "     {'column1':2,\n",
    "     'column2':'B',\n",
    "     'column3':'bar'},\n",
    "     {'column1':13,\n",
    "     'column2':'C',\n",
    "     'column3':'baz'}\n",
    "]\n",
    "\n",
    ")\n",
    "print(df_2)"
   ]
  },
  {
   "cell_type": "code",
   "execution_count": 39,
   "metadata": {},
   "outputs": [
    {
     "name": "stdout",
     "output_type": "stream",
     "text": [
      "  Forename    Surname Salary                           Job title\n",
      "0    Dawid      Tycki  48000                Intelligence Analyst\n",
      "1     Doug      Sharp  49000             BO Intelligence Analyst\n",
      "2    Soana       Pole  55000  Intelligence Analyst - Team leader\n",
      "3   Paloma      Casey  49000          MARVE Intelligence Analyst\n",
      "4     Pete  Leaworthy  47000            SEN Intelligence Analyst\n"
     ]
    }
   ],
   "source": [
    "employees = pd.DataFrame([\n",
    "    {'Forename':'Dawid',\n",
    "     'Surname':'Tycki',\n",
    "     'Salary':'48000',\n",
    "     'Job title':'Intelligence Analyst'},\n",
    "     {'Forename':'Doug',\n",
    "     'Surname':'Sharp',\n",
    "     'Salary':'49000',\n",
    "     'Job title':'BO Intelligence Analyst'},\n",
    "     {'Forename':'Soana',\n",
    "     'Surname':'Pole',\n",
    "     'Salary':'55000',\n",
    "     'Job title':'Intelligence Analyst - Team leader'},\n",
    "     {'Forename':'Paloma',\n",
    "     'Surname':'Casey',\n",
    "     'Salary':'49000',\n",
    "     'Job title':'MARVE Intelligence Analyst'},\n",
    "     {'Forename':'Pete',\n",
    "     'Surname':'Leaworthy',\n",
    "     'Salary':'47000',\n",
    "     'Job title':'SEN Intelligence Analyst'}\n",
    "\n",
    "]\n",
    ")\n",
    "print(employees)"
   ]
  },
  {
   "cell_type": "code",
   "execution_count": 40,
   "metadata": {},
   "outputs": [
    {
     "name": "stdout",
     "output_type": "stream",
     "text": [
      "<class 'pandas.core.frame.DataFrame'>\n",
      "RangeIndex: 5 entries, 0 to 4\n",
      "Data columns (total 4 columns):\n",
      " #   Column     Non-Null Count  Dtype \n",
      "---  ------     --------------  ----- \n",
      " 0   Forename   5 non-null      object\n",
      " 1   Surname    5 non-null      object\n",
      " 2   Salary     5 non-null      object\n",
      " 3   Job title  5 non-null      object\n",
      "dtypes: object(4)\n",
      "memory usage: 288.0+ bytes\n"
     ]
    }
   ],
   "source": [
    "employees.info()"
   ]
  },
  {
   "cell_type": "code",
   "execution_count": 41,
   "metadata": {},
   "outputs": [
    {
     "name": "stdout",
     "output_type": "stream",
     "text": [
      "0    48000\n",
      "1    49000\n",
      "2    55000\n",
      "3    49000\n",
      "4    47000\n",
      "Name: Salary, dtype: object\n",
      "     Surname                           Job title\n",
      "0      Tycki                Intelligence Analyst\n",
      "1      Sharp             BO Intelligence Analyst\n",
      "2       Pole  Intelligence Analyst - Team leader\n",
      "3      Casey          MARVE Intelligence Analyst\n",
      "4  Leaworthy            SEN Intelligence Analyst\n"
     ]
    }
   ],
   "source": [
    "print(employees['Salary'])\n",
    "print(employees[['Surname','Job title']])"
   ]
  },
  {
   "cell_type": "code",
   "execution_count": 42,
   "metadata": {},
   "outputs": [
    {
     "name": "stdout",
     "output_type": "stream",
     "text": [
      "Forename     object\n",
      "Surname      object\n",
      "Salary        int64\n",
      "Job title    object\n",
      "dtype: object\n"
     ]
    }
   ],
   "source": [
    "employees['Salary'] = employees['Salary'].astype('int')\n",
    "print(employees.dtypes)\n"
   ]
  },
  {
   "cell_type": "code",
   "execution_count": 43,
   "metadata": {},
   "outputs": [
    {
     "name": "stdout",
     "output_type": "stream",
     "text": [
      "The mean salary is: 49600.0\n",
      "The total salary is: 248000\n",
      "The max and min salaries respectively are 55000, 47000\n"
     ]
    }
   ],
   "source": [
    "mean_salary = employees['Salary'].mean()\n",
    "sum_salary = employees['Salary'].sum()\n",
    "max_salary = employees['Salary'].max()\n",
    "min_salary = employees['Salary'].min()\n",
    "\n",
    "print(f\"The mean salary is: {mean_salary}\")\n",
    "print(f\"The total salary is: {sum_salary}\")\n",
    "print(f\"The max and min salaries respectively are {max_salary}, {min_salary}\")"
   ]
  },
  {
   "cell_type": "code",
   "execution_count": 44,
   "metadata": {},
   "outputs": [
    {
     "data": {
      "text/html": [
       "<div>\n",
       "<style scoped>\n",
       "    .dataframe tbody tr th:only-of-type {\n",
       "        vertical-align: middle;\n",
       "    }\n",
       "\n",
       "    .dataframe tbody tr th {\n",
       "        vertical-align: top;\n",
       "    }\n",
       "\n",
       "    .dataframe thead th {\n",
       "        text-align: right;\n",
       "    }\n",
       "</style>\n",
       "<table border=\"1\" class=\"dataframe\">\n",
       "  <thead>\n",
       "    <tr style=\"text-align: right;\">\n",
       "      <th></th>\n",
       "      <th>Salary</th>\n",
       "    </tr>\n",
       "  </thead>\n",
       "  <tbody>\n",
       "    <tr>\n",
       "      <th>count</th>\n",
       "      <td>5.000000</td>\n",
       "    </tr>\n",
       "    <tr>\n",
       "      <th>mean</th>\n",
       "      <td>49600.000000</td>\n",
       "    </tr>\n",
       "    <tr>\n",
       "      <th>std</th>\n",
       "      <td>3130.495168</td>\n",
       "    </tr>\n",
       "    <tr>\n",
       "      <th>min</th>\n",
       "      <td>47000.000000</td>\n",
       "    </tr>\n",
       "    <tr>\n",
       "      <th>25%</th>\n",
       "      <td>48000.000000</td>\n",
       "    </tr>\n",
       "    <tr>\n",
       "      <th>50%</th>\n",
       "      <td>49000.000000</td>\n",
       "    </tr>\n",
       "    <tr>\n",
       "      <th>75%</th>\n",
       "      <td>49000.000000</td>\n",
       "    </tr>\n",
       "    <tr>\n",
       "      <th>max</th>\n",
       "      <td>55000.000000</td>\n",
       "    </tr>\n",
       "  </tbody>\n",
       "</table>\n",
       "</div>"
      ],
      "text/plain": [
       "             Salary\n",
       "count      5.000000\n",
       "mean   49600.000000\n",
       "std     3130.495168\n",
       "min    47000.000000\n",
       "25%    48000.000000\n",
       "50%    49000.000000\n",
       "75%    49000.000000\n",
       "max    55000.000000"
      ]
     },
     "execution_count": 44,
     "metadata": {},
     "output_type": "execute_result"
    }
   ],
   "source": [
    "employees.describe()"
   ]
  },
  {
   "cell_type": "code",
   "execution_count": 45,
   "metadata": {},
   "outputs": [
    {
     "data": {
      "text/plain": [
       "{'key1': 'value', 'key2': 'value'}"
      ]
     },
     "execution_count": 45,
     "metadata": {},
     "output_type": "execute_result"
    }
   ],
   "source": [
    "dict_1"
   ]
  },
  {
   "cell_type": "code",
   "execution_count": 46,
   "metadata": {},
   "outputs": [
    {
     "data": {
      "text/html": [
       "<div>\n",
       "<style scoped>\n",
       "    .dataframe tbody tr th:only-of-type {\n",
       "        vertical-align: middle;\n",
       "    }\n",
       "\n",
       "    .dataframe tbody tr th {\n",
       "        vertical-align: top;\n",
       "    }\n",
       "\n",
       "    .dataframe thead th {\n",
       "        text-align: right;\n",
       "    }\n",
       "</style>\n",
       "<table border=\"1\" class=\"dataframe\">\n",
       "  <thead>\n",
       "    <tr style=\"text-align: right;\">\n",
       "      <th></th>\n",
       "      <th>Forename</th>\n",
       "      <th>Surname</th>\n",
       "      <th>Salary</th>\n",
       "      <th>Job title</th>\n",
       "    </tr>\n",
       "  </thead>\n",
       "  <tbody>\n",
       "    <tr>\n",
       "      <th>0</th>\n",
       "      <td>Dawid</td>\n",
       "      <td>Tycki</td>\n",
       "      <td>48000</td>\n",
       "      <td>Intelligence Analyst</td>\n",
       "    </tr>\n",
       "    <tr>\n",
       "      <th>1</th>\n",
       "      <td>Doug</td>\n",
       "      <td>Sharp</td>\n",
       "      <td>49000</td>\n",
       "      <td>BO Intelligence Analyst</td>\n",
       "    </tr>\n",
       "    <tr>\n",
       "      <th>2</th>\n",
       "      <td>Soana</td>\n",
       "      <td>Pole</td>\n",
       "      <td>55000</td>\n",
       "      <td>Intelligence Analyst - Team leader</td>\n",
       "    </tr>\n",
       "    <tr>\n",
       "      <th>3</th>\n",
       "      <td>Paloma</td>\n",
       "      <td>Casey</td>\n",
       "      <td>49000</td>\n",
       "      <td>MARVE Intelligence Analyst</td>\n",
       "    </tr>\n",
       "    <tr>\n",
       "      <th>4</th>\n",
       "      <td>Pete</td>\n",
       "      <td>Leaworthy</td>\n",
       "      <td>47000</td>\n",
       "      <td>SEN Intelligence Analyst</td>\n",
       "    </tr>\n",
       "  </tbody>\n",
       "</table>\n",
       "</div>"
      ],
      "text/plain": [
       "  Forename    Surname  Salary                           Job title\n",
       "0    Dawid      Tycki   48000                Intelligence Analyst\n",
       "1     Doug      Sharp   49000             BO Intelligence Analyst\n",
       "2    Soana       Pole   55000  Intelligence Analyst - Team leader\n",
       "3   Paloma      Casey   49000          MARVE Intelligence Analyst\n",
       "4     Pete  Leaworthy   47000            SEN Intelligence Analyst"
      ]
     },
     "execution_count": 46,
     "metadata": {},
     "output_type": "execute_result"
    }
   ],
   "source": [
    "employees\n"
   ]
  },
  {
   "cell_type": "code",
   "execution_count": 47,
   "metadata": {},
   "outputs": [],
   "source": [
    "list_of_dicts = [\n",
    "{'col1':1,\n",
    "'col2':2},\n",
    "{'col1':'A',\n",
    "'col2':'B'},\n",
    "\n",
    "]\n",
    "df = pd.DataFrame(list_of_dicts)"
   ]
  },
  {
   "cell_type": "code",
   "execution_count": 48,
   "metadata": {},
   "outputs": [
    {
     "data": {
      "text/html": [
       "<div>\n",
       "<style scoped>\n",
       "    .dataframe tbody tr th:only-of-type {\n",
       "        vertical-align: middle;\n",
       "    }\n",
       "\n",
       "    .dataframe tbody tr th {\n",
       "        vertical-align: top;\n",
       "    }\n",
       "\n",
       "    .dataframe thead th {\n",
       "        text-align: right;\n",
       "    }\n",
       "</style>\n",
       "<table border=\"1\" class=\"dataframe\">\n",
       "  <thead>\n",
       "    <tr style=\"text-align: right;\">\n",
       "      <th></th>\n",
       "      <th>col1</th>\n",
       "      <th>col2</th>\n",
       "    </tr>\n",
       "  </thead>\n",
       "  <tbody>\n",
       "    <tr>\n",
       "      <th>0</th>\n",
       "      <td>1</td>\n",
       "      <td>2</td>\n",
       "    </tr>\n",
       "    <tr>\n",
       "      <th>1</th>\n",
       "      <td>A</td>\n",
       "      <td>B</td>\n",
       "    </tr>\n",
       "  </tbody>\n",
       "</table>\n",
       "</div>"
      ],
      "text/plain": [
       "  col1 col2\n",
       "0    1    2\n",
       "1    A    B"
      ]
     },
     "execution_count": 48,
     "metadata": {},
     "output_type": "execute_result"
    }
   ],
   "source": [
    "df"
   ]
  },
  {
   "cell_type": "code",
   "execution_count": 49,
   "metadata": {},
   "outputs": [
    {
     "data": {
      "text/plain": [
       "'https://https://raw.githubusercontent.com/data-to-insight/ERN-sessions/main/data/1980%202023%20average%20house%20prices.csv'"
      ]
     },
     "execution_count": 49,
     "metadata": {},
     "output_type": "execute_result"
    }
   ],
   "source": [
    "filename2 = \"https://https://raw.githubusercontent.com/data-to-insight/ERN-sessions/main/data/1980%202023%20average%20house%20prices.csv\"\n",
    "filename2"
   ]
  },
  {
   "cell_type": "code",
   "execution_count": 50,
   "metadata": {},
   "outputs": [
    {
     "data": {
      "text/html": [
       "<div>\n",
       "<style scoped>\n",
       "    .dataframe tbody tr th:only-of-type {\n",
       "        vertical-align: middle;\n",
       "    }\n",
       "\n",
       "    .dataframe tbody tr th {\n",
       "        vertical-align: top;\n",
       "    }\n",
       "\n",
       "    .dataframe thead th {\n",
       "        text-align: right;\n",
       "    }\n",
       "</style>\n",
       "<table border=\"1\" class=\"dataframe\">\n",
       "  <thead>\n",
       "    <tr style=\"text-align: right;\">\n",
       "      <th></th>\n",
       "      <th>CHILD</th>\n",
       "      <th>SEX</th>\n",
       "      <th>DOB</th>\n",
       "      <th>ETHNIC</th>\n",
       "      <th>UPN</th>\n",
       "      <th>MOTHER</th>\n",
       "      <th>MC_DOB</th>\n",
       "    </tr>\n",
       "  </thead>\n",
       "  <tbody>\n",
       "    <tr>\n",
       "      <th>0</th>\n",
       "      <td>566910</td>\n",
       "      <td>2</td>\n",
       "      <td>27/03/2008</td>\n",
       "      <td>WROM</td>\n",
       "      <td>D051910639385</td>\n",
       "      <td>NaN</td>\n",
       "      <td>NaN</td>\n",
       "    </tr>\n",
       "    <tr>\n",
       "      <th>1</th>\n",
       "      <td>384923</td>\n",
       "      <td>2</td>\n",
       "      <td>09/09/2011</td>\n",
       "      <td>REFU</td>\n",
       "      <td>L034811502612</td>\n",
       "      <td>NaN</td>\n",
       "      <td>NaN</td>\n",
       "    </tr>\n",
       "    <tr>\n",
       "      <th>2</th>\n",
       "      <td>709901</td>\n",
       "      <td>1</td>\n",
       "      <td>14/02/2013</td>\n",
       "      <td>ABAN</td>\n",
       "      <td>Y021751958510</td>\n",
       "      <td>NaN</td>\n",
       "      <td>NaN</td>\n",
       "    </tr>\n",
       "    <tr>\n",
       "      <th>3</th>\n",
       "      <td>550084</td>\n",
       "      <td>2</td>\n",
       "      <td>04/05/2008</td>\n",
       "      <td>AOTH</td>\n",
       "      <td>R095578985099</td>\n",
       "      <td>NaN</td>\n",
       "      <td>NaN</td>\n",
       "    </tr>\n",
       "    <tr>\n",
       "      <th>4</th>\n",
       "      <td>710229</td>\n",
       "      <td>2</td>\n",
       "      <td>15/04/2002</td>\n",
       "      <td>REFU</td>\n",
       "      <td>Z095096287583</td>\n",
       "      <td>NaN</td>\n",
       "      <td>NaN</td>\n",
       "    </tr>\n",
       "    <tr>\n",
       "      <th>...</th>\n",
       "      <td>...</td>\n",
       "      <td>...</td>\n",
       "      <td>...</td>\n",
       "      <td>...</td>\n",
       "      <td>...</td>\n",
       "      <td>...</td>\n",
       "      <td>...</td>\n",
       "    </tr>\n",
       "    <tr>\n",
       "      <th>2670</th>\n",
       "      <td>152113</td>\n",
       "      <td>1</td>\n",
       "      <td>06/06/2003</td>\n",
       "      <td>WBRI</td>\n",
       "      <td>K096794376750</td>\n",
       "      <td>NaN</td>\n",
       "      <td>NaN</td>\n",
       "    </tr>\n",
       "    <tr>\n",
       "      <th>2671</th>\n",
       "      <td>481370</td>\n",
       "      <td>2</td>\n",
       "      <td>12/02/2008</td>\n",
       "      <td>BAFR</td>\n",
       "      <td>C014150452081</td>\n",
       "      <td>NaN</td>\n",
       "      <td>NaN</td>\n",
       "    </tr>\n",
       "    <tr>\n",
       "      <th>2672</th>\n",
       "      <td>791577</td>\n",
       "      <td>1</td>\n",
       "      <td>28/05/2011</td>\n",
       "      <td>WBRI</td>\n",
       "      <td>Q009369089812</td>\n",
       "      <td>NaN</td>\n",
       "      <td>NaN</td>\n",
       "    </tr>\n",
       "    <tr>\n",
       "      <th>2673</th>\n",
       "      <td>238470</td>\n",
       "      <td>1</td>\n",
       "      <td>21/11/2013</td>\n",
       "      <td>AIND</td>\n",
       "      <td>P095222532769</td>\n",
       "      <td>NaN</td>\n",
       "      <td>NaN</td>\n",
       "    </tr>\n",
       "    <tr>\n",
       "      <th>2674</th>\n",
       "      <td>437361</td>\n",
       "      <td>1</td>\n",
       "      <td>15/12/2012</td>\n",
       "      <td>WROM</td>\n",
       "      <td>G018001328504</td>\n",
       "      <td>NaN</td>\n",
       "      <td>NaN</td>\n",
       "    </tr>\n",
       "  </tbody>\n",
       "</table>\n",
       "<p>2675 rows × 7 columns</p>\n",
       "</div>"
      ],
      "text/plain": [
       "       CHILD  SEX         DOB ETHNIC            UPN  MOTHER MC_DOB\n",
       "0     566910    2  27/03/2008   WROM  D051910639385     NaN    NaN\n",
       "1     384923    2  09/09/2011   REFU  L034811502612     NaN    NaN\n",
       "2     709901    1  14/02/2013   ABAN  Y021751958510     NaN    NaN\n",
       "3     550084    2  04/05/2008   AOTH  R095578985099     NaN    NaN\n",
       "4     710229    2  15/04/2002   REFU  Z095096287583     NaN    NaN\n",
       "...      ...  ...         ...    ...            ...     ...    ...\n",
       "2670  152113    1  06/06/2003   WBRI  K096794376750     NaN    NaN\n",
       "2671  481370    2  12/02/2008   BAFR  C014150452081     NaN    NaN\n",
       "2672  791577    1  28/05/2011   WBRI  Q009369089812     NaN    NaN\n",
       "2673  238470    1  21/11/2013   AIND  P095222532769     NaN    NaN\n",
       "2674  437361    1  15/12/2012   WROM  G018001328504     NaN    NaN\n",
       "\n",
       "[2675 rows x 7 columns]"
      ]
     },
     "execution_count": 50,
     "metadata": {},
     "output_type": "execute_result"
    }
   ],
   "source": [
    "dff = pd.read_csv(filepath)\n",
    "dff\n"
   ]
  },
  {
   "cell_type": "code",
   "execution_count": 51,
   "metadata": {},
   "outputs": [
    {
     "name": "stdout",
     "output_type": "stream",
     "text": [
      "<class 'pandas.core.frame.DataFrame'>\n",
      "RangeIndex: 2675 entries, 0 to 2674\n",
      "Data columns (total 7 columns):\n",
      " #   Column  Non-Null Count  Dtype  \n",
      "---  ------  --------------  -----  \n",
      " 0   CHILD   2675 non-null   int64  \n",
      " 1   SEX     2675 non-null   int64  \n",
      " 2   DOB     2675 non-null   object \n",
      " 3   ETHNIC  2675 non-null   object \n",
      " 4   UPN     2675 non-null   object \n",
      " 5   MOTHER  1 non-null      float64\n",
      " 6   MC_DOB  1 non-null      object \n",
      "dtypes: float64(1), int64(2), object(4)\n",
      "memory usage: 146.4+ KB\n",
      "None\n"
     ]
    }
   ],
   "source": [
    "print(dff.info())"
   ]
  },
  {
   "cell_type": "code",
   "execution_count": 52,
   "metadata": {},
   "outputs": [
    {
     "data": {
      "text/html": [
       "<div>\n",
       "<style scoped>\n",
       "    .dataframe tbody tr th:only-of-type {\n",
       "        vertical-align: middle;\n",
       "    }\n",
       "\n",
       "    .dataframe tbody tr th {\n",
       "        vertical-align: top;\n",
       "    }\n",
       "\n",
       "    .dataframe thead th {\n",
       "        text-align: right;\n",
       "    }\n",
       "</style>\n",
       "<table border=\"1\" class=\"dataframe\">\n",
       "  <thead>\n",
       "    <tr style=\"text-align: right;\">\n",
       "      <th></th>\n",
       "      <th>Name</th>\n",
       "      <th>Period</th>\n",
       "      <th>House price index All property types</th>\n",
       "      <th>Average price All property types</th>\n",
       "      <th>Percentage change (monthly) All property types</th>\n",
       "      <th>Percentage change (yearly) All property types</th>\n",
       "    </tr>\n",
       "  </thead>\n",
       "  <tbody>\n",
       "    <tr>\n",
       "      <th>0</th>\n",
       "      <td>United Kingdom</td>\n",
       "      <td>1980-01</td>\n",
       "      <td>10.11</td>\n",
       "      <td>19273</td>\n",
       "      <td>3.94</td>\n",
       "      <td>28.59</td>\n",
       "    </tr>\n",
       "    <tr>\n",
       "      <th>1</th>\n",
       "      <td>United Kingdom</td>\n",
       "      <td>1980-02</td>\n",
       "      <td>10.11</td>\n",
       "      <td>19273</td>\n",
       "      <td>3.94</td>\n",
       "      <td>28.59</td>\n",
       "    </tr>\n",
       "    <tr>\n",
       "      <th>2</th>\n",
       "      <td>United Kingdom</td>\n",
       "      <td>1980-03</td>\n",
       "      <td>10.11</td>\n",
       "      <td>19273</td>\n",
       "      <td>3.94</td>\n",
       "      <td>28.59</td>\n",
       "    </tr>\n",
       "    <tr>\n",
       "      <th>3</th>\n",
       "      <td>United Kingdom</td>\n",
       "      <td>1980-04</td>\n",
       "      <td>10.51</td>\n",
       "      <td>20044</td>\n",
       "      <td>4.00</td>\n",
       "      <td>24.15</td>\n",
       "    </tr>\n",
       "    <tr>\n",
       "      <th>4</th>\n",
       "      <td>United Kingdom</td>\n",
       "      <td>1980-05</td>\n",
       "      <td>10.51</td>\n",
       "      <td>20044</td>\n",
       "      <td>4.00</td>\n",
       "      <td>24.15</td>\n",
       "    </tr>\n",
       "    <tr>\n",
       "      <th>...</th>\n",
       "      <td>...</td>\n",
       "      <td>...</td>\n",
       "      <td>...</td>\n",
       "      <td>...</td>\n",
       "      <td>...</td>\n",
       "      <td>...</td>\n",
       "    </tr>\n",
       "    <tr>\n",
       "      <th>518</th>\n",
       "      <td>United Kingdom</td>\n",
       "      <td>2023-03</td>\n",
       "      <td>148.20</td>\n",
       "      <td>282548</td>\n",
       "      <td>-1.00</td>\n",
       "      <td>3.20</td>\n",
       "    </tr>\n",
       "    <tr>\n",
       "      <th>519</th>\n",
       "      <td>United Kingdom</td>\n",
       "      <td>2023-04</td>\n",
       "      <td>148.90</td>\n",
       "      <td>283871</td>\n",
       "      <td>0.50</td>\n",
       "      <td>2.50</td>\n",
       "    </tr>\n",
       "    <tr>\n",
       "      <th>520</th>\n",
       "      <td>United Kingdom</td>\n",
       "      <td>2023-05</td>\n",
       "      <td>149.50</td>\n",
       "      <td>285053</td>\n",
       "      <td>0.40</td>\n",
       "      <td>1.60</td>\n",
       "    </tr>\n",
       "    <tr>\n",
       "      <th>521</th>\n",
       "      <td>United Kingdom</td>\n",
       "      <td>2023-06</td>\n",
       "      <td>151.20</td>\n",
       "      <td>288281</td>\n",
       "      <td>1.10</td>\n",
       "      <td>1.90</td>\n",
       "    </tr>\n",
       "    <tr>\n",
       "      <th>522</th>\n",
       "      <td>United Kingdom</td>\n",
       "      <td>2023-07</td>\n",
       "      <td>152.00</td>\n",
       "      <td>289824</td>\n",
       "      <td>0.50</td>\n",
       "      <td>0.60</td>\n",
       "    </tr>\n",
       "  </tbody>\n",
       "</table>\n",
       "<p>523 rows × 6 columns</p>\n",
       "</div>"
      ],
      "text/plain": [
       "               Name   Period  House price index All property types  \\\n",
       "0    United Kingdom  1980-01                                 10.11   \n",
       "1    United Kingdom  1980-02                                 10.11   \n",
       "2    United Kingdom  1980-03                                 10.11   \n",
       "3    United Kingdom  1980-04                                 10.51   \n",
       "4    United Kingdom  1980-05                                 10.51   \n",
       "..              ...      ...                                   ...   \n",
       "518  United Kingdom  2023-03                                148.20   \n",
       "519  United Kingdom  2023-04                                148.90   \n",
       "520  United Kingdom  2023-05                                149.50   \n",
       "521  United Kingdom  2023-06                                151.20   \n",
       "522  United Kingdom  2023-07                                152.00   \n",
       "\n",
       "     Average price All property types  \\\n",
       "0                               19273   \n",
       "1                               19273   \n",
       "2                               19273   \n",
       "3                               20044   \n",
       "4                               20044   \n",
       "..                                ...   \n",
       "518                            282548   \n",
       "519                            283871   \n",
       "520                            285053   \n",
       "521                            288281   \n",
       "522                            289824   \n",
       "\n",
       "     Percentage change (monthly) All property types  \\\n",
       "0                                              3.94   \n",
       "1                                              3.94   \n",
       "2                                              3.94   \n",
       "3                                              4.00   \n",
       "4                                              4.00   \n",
       "..                                              ...   \n",
       "518                                           -1.00   \n",
       "519                                            0.50   \n",
       "520                                            0.40   \n",
       "521                                            1.10   \n",
       "522                                            0.50   \n",
       "\n",
       "     Percentage change (yearly) All property types  \n",
       "0                                            28.59  \n",
       "1                                            28.59  \n",
       "2                                            28.59  \n",
       "3                                            24.15  \n",
       "4                                            24.15  \n",
       "..                                             ...  \n",
       "518                                           3.20  \n",
       "519                                           2.50  \n",
       "520                                           1.60  \n",
       "521                                           1.90  \n",
       "522                                           0.60  \n",
       "\n",
       "[523 rows x 6 columns]"
      ]
     },
     "execution_count": 52,
     "metadata": {},
     "output_type": "execute_result"
    }
   ],
   "source": [
    "filepath = \"https://raw.githubusercontent.com/data-to-insight/ERN-sessions/main/data/1980%202023%20average%20house%20prices.csv\"\n",
    "df = pd.read_csv(filepath)\n",
    "df"
   ]
  },
  {
   "cell_type": "code",
   "execution_count": 53,
   "metadata": {},
   "outputs": [
    {
     "name": "stdout",
     "output_type": "stream",
     "text": [
      "<class 'pandas.core.frame.DataFrame'>\n",
      "RangeIndex: 523 entries, 0 to 522\n",
      "Data columns (total 6 columns):\n",
      " #   Column                                          Non-Null Count  Dtype  \n",
      "---  ------                                          --------------  -----  \n",
      " 0   Name                                            523 non-null    object \n",
      " 1   Period                                          523 non-null    object \n",
      " 2   House price index All property types            523 non-null    float64\n",
      " 3   Average price All property types                523 non-null    int64  \n",
      " 4   Percentage change (monthly) All property types  523 non-null    float64\n",
      " 5   Percentage change (yearly) All property types   523 non-null    float64\n",
      "dtypes: float64(3), int64(1), object(2)\n",
      "memory usage: 24.6+ KB\n"
     ]
    }
   ],
   "source": [
    "df.info()"
   ]
  },
  {
   "cell_type": "code",
   "execution_count": 54,
   "metadata": {},
   "outputs": [
    {
     "data": {
      "text/html": [
       "<div>\n",
       "<style scoped>\n",
       "    .dataframe tbody tr th:only-of-type {\n",
       "        vertical-align: middle;\n",
       "    }\n",
       "\n",
       "    .dataframe tbody tr th {\n",
       "        vertical-align: top;\n",
       "    }\n",
       "\n",
       "    .dataframe thead th {\n",
       "        text-align: right;\n",
       "    }\n",
       "</style>\n",
       "<table border=\"1\" class=\"dataframe\">\n",
       "  <thead>\n",
       "    <tr style=\"text-align: right;\">\n",
       "      <th></th>\n",
       "      <th>Name</th>\n",
       "      <th>Period</th>\n",
       "      <th>House price index All property types</th>\n",
       "      <th>Average price All property types</th>\n",
       "      <th>Percentage change (monthly) All property types</th>\n",
       "      <th>Percentage change (yearly) All property types</th>\n",
       "    </tr>\n",
       "  </thead>\n",
       "  <tbody>\n",
       "    <tr>\n",
       "      <th>0</th>\n",
       "      <td>United Kingdom</td>\n",
       "      <td>1980-01-01</td>\n",
       "      <td>10.11</td>\n",
       "      <td>19273</td>\n",
       "      <td>3.94</td>\n",
       "      <td>28.59</td>\n",
       "    </tr>\n",
       "    <tr>\n",
       "      <th>1</th>\n",
       "      <td>United Kingdom</td>\n",
       "      <td>1980-02-01</td>\n",
       "      <td>10.11</td>\n",
       "      <td>19273</td>\n",
       "      <td>3.94</td>\n",
       "      <td>28.59</td>\n",
       "    </tr>\n",
       "    <tr>\n",
       "      <th>2</th>\n",
       "      <td>United Kingdom</td>\n",
       "      <td>1980-03-01</td>\n",
       "      <td>10.11</td>\n",
       "      <td>19273</td>\n",
       "      <td>3.94</td>\n",
       "      <td>28.59</td>\n",
       "    </tr>\n",
       "    <tr>\n",
       "      <th>3</th>\n",
       "      <td>United Kingdom</td>\n",
       "      <td>1980-04-01</td>\n",
       "      <td>10.51</td>\n",
       "      <td>20044</td>\n",
       "      <td>4.00</td>\n",
       "      <td>24.15</td>\n",
       "    </tr>\n",
       "    <tr>\n",
       "      <th>4</th>\n",
       "      <td>United Kingdom</td>\n",
       "      <td>1980-05-01</td>\n",
       "      <td>10.51</td>\n",
       "      <td>20044</td>\n",
       "      <td>4.00</td>\n",
       "      <td>24.15</td>\n",
       "    </tr>\n",
       "  </tbody>\n",
       "</table>\n",
       "</div>"
      ],
      "text/plain": [
       "             Name     Period  House price index All property types  \\\n",
       "0  United Kingdom 1980-01-01                                 10.11   \n",
       "1  United Kingdom 1980-02-01                                 10.11   \n",
       "2  United Kingdom 1980-03-01                                 10.11   \n",
       "3  United Kingdom 1980-04-01                                 10.51   \n",
       "4  United Kingdom 1980-05-01                                 10.51   \n",
       "\n",
       "   Average price All property types  \\\n",
       "0                             19273   \n",
       "1                             19273   \n",
       "2                             19273   \n",
       "3                             20044   \n",
       "4                             20044   \n",
       "\n",
       "   Percentage change (monthly) All property types  \\\n",
       "0                                            3.94   \n",
       "1                                            3.94   \n",
       "2                                            3.94   \n",
       "3                                            4.00   \n",
       "4                                            4.00   \n",
       "\n",
       "   Percentage change (yearly) All property types  \n",
       "0                                          28.59  \n",
       "1                                          28.59  \n",
       "2                                          28.59  \n",
       "3                                          24.15  \n",
       "4                                          24.15  "
      ]
     },
     "execution_count": 54,
     "metadata": {},
     "output_type": "execute_result"
    }
   ],
   "source": [
    "# 01/01/2024\n",
    "# %d/%m/%Y\n",
    "# strftime  = one way of specifying datetime\n",
    "# %b - month but with local shortening eg: Jan\n",
    "# %B - full month name January\n",
    "df['Period'] = pd.to_datetime(df['Period'],format='%Y-%m',errors='coerce')\n",
    "df.head()"
   ]
  },
  {
   "cell_type": "code",
   "execution_count": 55,
   "metadata": {},
   "outputs": [
    {
     "name": "stdout",
     "output_type": "stream",
     "text": [
      "<class 'pandas.core.frame.DataFrame'>\n",
      "RangeIndex: 523 entries, 0 to 522\n",
      "Data columns (total 6 columns):\n",
      " #   Column                                          Non-Null Count  Dtype         \n",
      "---  ------                                          --------------  -----         \n",
      " 0   Name                                            523 non-null    object        \n",
      " 1   Period                                          523 non-null    datetime64[ns]\n",
      " 2   House price index All property types            523 non-null    float64       \n",
      " 3   Average price All property types                523 non-null    int64         \n",
      " 4   Percentage change (monthly) All property types  523 non-null    float64       \n",
      " 5   Percentage change (yearly) All property types   523 non-null    float64       \n",
      "dtypes: datetime64[ns](1), float64(3), int64(1), object(1)\n",
      "memory usage: 24.6+ KB\n"
     ]
    }
   ],
   "source": [
    "df.info()"
   ]
  },
  {
   "cell_type": "code",
   "execution_count": 56,
   "metadata": {},
   "outputs": [
    {
     "data": {
      "text/html": [
       "<div>\n",
       "<style scoped>\n",
       "    .dataframe tbody tr th:only-of-type {\n",
       "        vertical-align: middle;\n",
       "    }\n",
       "\n",
       "    .dataframe tbody tr th {\n",
       "        vertical-align: top;\n",
       "    }\n",
       "\n",
       "    .dataframe thead th {\n",
       "        text-align: right;\n",
       "    }\n",
       "</style>\n",
       "<table border=\"1\" class=\"dataframe\">\n",
       "  <thead>\n",
       "    <tr style=\"text-align: right;\">\n",
       "      <th></th>\n",
       "      <th>Name</th>\n",
       "      <th>Period</th>\n",
       "      <th>House price index All property types</th>\n",
       "      <th>Average price All property types</th>\n",
       "      <th>Percentage change (monthly) All property types</th>\n",
       "      <th>Percentage change (yearly) All property types</th>\n",
       "      <th>Age of Data (Years)</th>\n",
       "    </tr>\n",
       "  </thead>\n",
       "  <tbody>\n",
       "    <tr>\n",
       "      <th>0</th>\n",
       "      <td>United Kingdom</td>\n",
       "      <td>1980-01-01</td>\n",
       "      <td>10.11</td>\n",
       "      <td>19273</td>\n",
       "      <td>3.94</td>\n",
       "      <td>28.59</td>\n",
       "      <td>16110 days</td>\n",
       "    </tr>\n",
       "    <tr>\n",
       "      <th>1</th>\n",
       "      <td>United Kingdom</td>\n",
       "      <td>1980-02-01</td>\n",
       "      <td>10.11</td>\n",
       "      <td>19273</td>\n",
       "      <td>3.94</td>\n",
       "      <td>28.59</td>\n",
       "      <td>16079 days</td>\n",
       "    </tr>\n",
       "    <tr>\n",
       "      <th>2</th>\n",
       "      <td>United Kingdom</td>\n",
       "      <td>1980-03-01</td>\n",
       "      <td>10.11</td>\n",
       "      <td>19273</td>\n",
       "      <td>3.94</td>\n",
       "      <td>28.59</td>\n",
       "      <td>16050 days</td>\n",
       "    </tr>\n",
       "    <tr>\n",
       "      <th>3</th>\n",
       "      <td>United Kingdom</td>\n",
       "      <td>1980-04-01</td>\n",
       "      <td>10.51</td>\n",
       "      <td>20044</td>\n",
       "      <td>4.00</td>\n",
       "      <td>24.15</td>\n",
       "      <td>16019 days</td>\n",
       "    </tr>\n",
       "    <tr>\n",
       "      <th>4</th>\n",
       "      <td>United Kingdom</td>\n",
       "      <td>1980-05-01</td>\n",
       "      <td>10.51</td>\n",
       "      <td>20044</td>\n",
       "      <td>4.00</td>\n",
       "      <td>24.15</td>\n",
       "      <td>15989 days</td>\n",
       "    </tr>\n",
       "    <tr>\n",
       "      <th>...</th>\n",
       "      <td>...</td>\n",
       "      <td>...</td>\n",
       "      <td>...</td>\n",
       "      <td>...</td>\n",
       "      <td>...</td>\n",
       "      <td>...</td>\n",
       "      <td>...</td>\n",
       "    </tr>\n",
       "    <tr>\n",
       "      <th>518</th>\n",
       "      <td>United Kingdom</td>\n",
       "      <td>2023-03-01</td>\n",
       "      <td>148.20</td>\n",
       "      <td>282548</td>\n",
       "      <td>-1.00</td>\n",
       "      <td>3.20</td>\n",
       "      <td>345 days</td>\n",
       "    </tr>\n",
       "    <tr>\n",
       "      <th>519</th>\n",
       "      <td>United Kingdom</td>\n",
       "      <td>2023-04-01</td>\n",
       "      <td>148.90</td>\n",
       "      <td>283871</td>\n",
       "      <td>0.50</td>\n",
       "      <td>2.50</td>\n",
       "      <td>314 days</td>\n",
       "    </tr>\n",
       "    <tr>\n",
       "      <th>520</th>\n",
       "      <td>United Kingdom</td>\n",
       "      <td>2023-05-01</td>\n",
       "      <td>149.50</td>\n",
       "      <td>285053</td>\n",
       "      <td>0.40</td>\n",
       "      <td>1.60</td>\n",
       "      <td>284 days</td>\n",
       "    </tr>\n",
       "    <tr>\n",
       "      <th>521</th>\n",
       "      <td>United Kingdom</td>\n",
       "      <td>2023-06-01</td>\n",
       "      <td>151.20</td>\n",
       "      <td>288281</td>\n",
       "      <td>1.10</td>\n",
       "      <td>1.90</td>\n",
       "      <td>253 days</td>\n",
       "    </tr>\n",
       "    <tr>\n",
       "      <th>522</th>\n",
       "      <td>United Kingdom</td>\n",
       "      <td>2023-07-01</td>\n",
       "      <td>152.00</td>\n",
       "      <td>289824</td>\n",
       "      <td>0.50</td>\n",
       "      <td>0.60</td>\n",
       "      <td>223 days</td>\n",
       "    </tr>\n",
       "  </tbody>\n",
       "</table>\n",
       "<p>523 rows × 7 columns</p>\n",
       "</div>"
      ],
      "text/plain": [
       "               Name     Period  House price index All property types  \\\n",
       "0    United Kingdom 1980-01-01                                 10.11   \n",
       "1    United Kingdom 1980-02-01                                 10.11   \n",
       "2    United Kingdom 1980-03-01                                 10.11   \n",
       "3    United Kingdom 1980-04-01                                 10.51   \n",
       "4    United Kingdom 1980-05-01                                 10.51   \n",
       "..              ...        ...                                   ...   \n",
       "518  United Kingdom 2023-03-01                                148.20   \n",
       "519  United Kingdom 2023-04-01                                148.90   \n",
       "520  United Kingdom 2023-05-01                                149.50   \n",
       "521  United Kingdom 2023-06-01                                151.20   \n",
       "522  United Kingdom 2023-07-01                                152.00   \n",
       "\n",
       "     Average price All property types  \\\n",
       "0                               19273   \n",
       "1                               19273   \n",
       "2                               19273   \n",
       "3                               20044   \n",
       "4                               20044   \n",
       "..                                ...   \n",
       "518                            282548   \n",
       "519                            283871   \n",
       "520                            285053   \n",
       "521                            288281   \n",
       "522                            289824   \n",
       "\n",
       "     Percentage change (monthly) All property types  \\\n",
       "0                                              3.94   \n",
       "1                                              3.94   \n",
       "2                                              3.94   \n",
       "3                                              4.00   \n",
       "4                                              4.00   \n",
       "..                                              ...   \n",
       "518                                           -1.00   \n",
       "519                                            0.50   \n",
       "520                                            0.40   \n",
       "521                                            1.10   \n",
       "522                                            0.50   \n",
       "\n",
       "     Percentage change (yearly) All property types Age of Data (Years)  \n",
       "0                                            28.59          16110 days  \n",
       "1                                            28.59          16079 days  \n",
       "2                                            28.59          16050 days  \n",
       "3                                            24.15          16019 days  \n",
       "4                                            24.15          15989 days  \n",
       "..                                             ...                 ...  \n",
       "518                                           3.20            345 days  \n",
       "519                                           2.50            314 days  \n",
       "520                                           1.60            284 days  \n",
       "521                                           1.90            253 days  \n",
       "522                                           0.60            223 days  \n",
       "\n",
       "[523 rows x 7 columns]"
      ]
     },
     "execution_count": 56,
     "metadata": {},
     "output_type": "execute_result"
    }
   ],
   "source": [
    "# df['Age of Data (Years)'] = pd.to_datetime('today').normalize() - df['Period'] # normalize() will make it midnight as opposed to the time now\n",
    "# print(df['Age of Data (Years)'].dtype)\n",
    "\n",
    "# the above did not work so did this instead\n",
    "df['Age of Data (Years)'] = pd.to_datetime('09/02/2024',dayfirst=True) - df['Period']\n",
    "df\n"
   ]
  },
  {
   "cell_type": "code",
   "execution_count": 57,
   "metadata": {},
   "outputs": [
    {
     "data": {
      "text/html": [
       "<div>\n",
       "<style scoped>\n",
       "    .dataframe tbody tr th:only-of-type {\n",
       "        vertical-align: middle;\n",
       "    }\n",
       "\n",
       "    .dataframe tbody tr th {\n",
       "        vertical-align: top;\n",
       "    }\n",
       "\n",
       "    .dataframe thead th {\n",
       "        text-align: right;\n",
       "    }\n",
       "</style>\n",
       "<table border=\"1\" class=\"dataframe\">\n",
       "  <thead>\n",
       "    <tr style=\"text-align: right;\">\n",
       "      <th></th>\n",
       "      <th>Name</th>\n",
       "      <th>Period</th>\n",
       "      <th>House price index All property types</th>\n",
       "      <th>Average price All property types</th>\n",
       "      <th>Percentage change (monthly) All property types</th>\n",
       "      <th>Percentage change (yearly) All property types</th>\n",
       "      <th>Age of Data (Years)</th>\n",
       "    </tr>\n",
       "  </thead>\n",
       "  <tbody>\n",
       "    <tr>\n",
       "      <th>0</th>\n",
       "      <td>United Kingdom</td>\n",
       "      <td>1980-01-01</td>\n",
       "      <td>10.11</td>\n",
       "      <td>19273</td>\n",
       "      <td>3.94</td>\n",
       "      <td>28.59</td>\n",
       "      <td>44</td>\n",
       "    </tr>\n",
       "    <tr>\n",
       "      <th>1</th>\n",
       "      <td>United Kingdom</td>\n",
       "      <td>1980-02-01</td>\n",
       "      <td>10.11</td>\n",
       "      <td>19273</td>\n",
       "      <td>3.94</td>\n",
       "      <td>28.59</td>\n",
       "      <td>44</td>\n",
       "    </tr>\n",
       "    <tr>\n",
       "      <th>2</th>\n",
       "      <td>United Kingdom</td>\n",
       "      <td>1980-03-01</td>\n",
       "      <td>10.11</td>\n",
       "      <td>19273</td>\n",
       "      <td>3.94</td>\n",
       "      <td>28.59</td>\n",
       "      <td>44</td>\n",
       "    </tr>\n",
       "    <tr>\n",
       "      <th>3</th>\n",
       "      <td>United Kingdom</td>\n",
       "      <td>1980-04-01</td>\n",
       "      <td>10.51</td>\n",
       "      <td>20044</td>\n",
       "      <td>4.00</td>\n",
       "      <td>24.15</td>\n",
       "      <td>44</td>\n",
       "    </tr>\n",
       "    <tr>\n",
       "      <th>4</th>\n",
       "      <td>United Kingdom</td>\n",
       "      <td>1980-05-01</td>\n",
       "      <td>10.51</td>\n",
       "      <td>20044</td>\n",
       "      <td>4.00</td>\n",
       "      <td>24.15</td>\n",
       "      <td>44</td>\n",
       "    </tr>\n",
       "    <tr>\n",
       "      <th>...</th>\n",
       "      <td>...</td>\n",
       "      <td>...</td>\n",
       "      <td>...</td>\n",
       "      <td>...</td>\n",
       "      <td>...</td>\n",
       "      <td>...</td>\n",
       "      <td>...</td>\n",
       "    </tr>\n",
       "    <tr>\n",
       "      <th>518</th>\n",
       "      <td>United Kingdom</td>\n",
       "      <td>2023-03-01</td>\n",
       "      <td>148.20</td>\n",
       "      <td>282548</td>\n",
       "      <td>-1.00</td>\n",
       "      <td>3.20</td>\n",
       "      <td>1</td>\n",
       "    </tr>\n",
       "    <tr>\n",
       "      <th>519</th>\n",
       "      <td>United Kingdom</td>\n",
       "      <td>2023-04-01</td>\n",
       "      <td>148.90</td>\n",
       "      <td>283871</td>\n",
       "      <td>0.50</td>\n",
       "      <td>2.50</td>\n",
       "      <td>1</td>\n",
       "    </tr>\n",
       "    <tr>\n",
       "      <th>520</th>\n",
       "      <td>United Kingdom</td>\n",
       "      <td>2023-05-01</td>\n",
       "      <td>149.50</td>\n",
       "      <td>285053</td>\n",
       "      <td>0.40</td>\n",
       "      <td>1.60</td>\n",
       "      <td>1</td>\n",
       "    </tr>\n",
       "    <tr>\n",
       "      <th>521</th>\n",
       "      <td>United Kingdom</td>\n",
       "      <td>2023-06-01</td>\n",
       "      <td>151.20</td>\n",
       "      <td>288281</td>\n",
       "      <td>1.10</td>\n",
       "      <td>1.90</td>\n",
       "      <td>1</td>\n",
       "    </tr>\n",
       "    <tr>\n",
       "      <th>522</th>\n",
       "      <td>United Kingdom</td>\n",
       "      <td>2023-07-01</td>\n",
       "      <td>152.00</td>\n",
       "      <td>289824</td>\n",
       "      <td>0.50</td>\n",
       "      <td>0.60</td>\n",
       "      <td>1</td>\n",
       "    </tr>\n",
       "  </tbody>\n",
       "</table>\n",
       "<p>523 rows × 7 columns</p>\n",
       "</div>"
      ],
      "text/plain": [
       "               Name     Period  House price index All property types  \\\n",
       "0    United Kingdom 1980-01-01                                 10.11   \n",
       "1    United Kingdom 1980-02-01                                 10.11   \n",
       "2    United Kingdom 1980-03-01                                 10.11   \n",
       "3    United Kingdom 1980-04-01                                 10.51   \n",
       "4    United Kingdom 1980-05-01                                 10.51   \n",
       "..              ...        ...                                   ...   \n",
       "518  United Kingdom 2023-03-01                                148.20   \n",
       "519  United Kingdom 2023-04-01                                148.90   \n",
       "520  United Kingdom 2023-05-01                                149.50   \n",
       "521  United Kingdom 2023-06-01                                151.20   \n",
       "522  United Kingdom 2023-07-01                                152.00   \n",
       "\n",
       "     Average price All property types  \\\n",
       "0                               19273   \n",
       "1                               19273   \n",
       "2                               19273   \n",
       "3                               20044   \n",
       "4                               20044   \n",
       "..                                ...   \n",
       "518                            282548   \n",
       "519                            283871   \n",
       "520                            285053   \n",
       "521                            288281   \n",
       "522                            289824   \n",
       "\n",
       "     Percentage change (monthly) All property types  \\\n",
       "0                                              3.94   \n",
       "1                                              3.94   \n",
       "2                                              3.94   \n",
       "3                                              4.00   \n",
       "4                                              4.00   \n",
       "..                                              ...   \n",
       "518                                           -1.00   \n",
       "519                                            0.50   \n",
       "520                                            0.40   \n",
       "521                                            1.10   \n",
       "522                                            0.50   \n",
       "\n",
       "     Percentage change (yearly) All property types  Age of Data (Years)  \n",
       "0                                            28.59                   44  \n",
       "1                                            28.59                   44  \n",
       "2                                            28.59                   44  \n",
       "3                                            24.15                   44  \n",
       "4                                            24.15                   44  \n",
       "..                                             ...                  ...  \n",
       "518                                           3.20                    1  \n",
       "519                                           2.50                    1  \n",
       "520                                           1.60                    1  \n",
       "521                                           1.90                    1  \n",
       "522                                           0.60                    1  \n",
       "\n",
       "[523 rows x 7 columns]"
      ]
     },
     "execution_count": 57,
     "metadata": {},
     "output_type": "execute_result"
    }
   ],
   "source": [
    "# import numpy as np\n",
    "# df['Age of Data (Years)'] = df['Age of Data (Years)'] / pd.Timedelta('365') -- issues with this too\n",
    "\n",
    "#so instead did this\n",
    "df['Age of Data (Years)'] = df['Age of Data (Years)'] / pd.Timedelta('365 days')\n",
    "df['Age of Data (Years)'] = df['Age of Data (Years)'].round().astype('int',errors='ignore')\n",
    "df"
   ]
  },
  {
   "cell_type": "code",
   "execution_count": 58,
   "metadata": {},
   "outputs": [
    {
     "data": {
      "text/html": [
       "<div>\n",
       "<style scoped>\n",
       "    .dataframe tbody tr th:only-of-type {\n",
       "        vertical-align: middle;\n",
       "    }\n",
       "\n",
       "    .dataframe tbody tr th {\n",
       "        vertical-align: top;\n",
       "    }\n",
       "\n",
       "    .dataframe thead th {\n",
       "        text-align: right;\n",
       "    }\n",
       "</style>\n",
       "<table border=\"1\" class=\"dataframe\">\n",
       "  <thead>\n",
       "    <tr style=\"text-align: right;\">\n",
       "      <th></th>\n",
       "      <th>Unnamed: 0</th>\n",
       "      <th>LAchildID</th>\n",
       "      <th>UPN</th>\n",
       "      <th>FormerUPN</th>\n",
       "      <th>UPNunknown</th>\n",
       "      <th>PersonBirthDate</th>\n",
       "      <th>ExpectedPersonBirthDate</th>\n",
       "      <th>GenderCurrent</th>\n",
       "      <th>PersonDeathDate</th>\n",
       "    </tr>\n",
       "  </thead>\n",
       "  <tbody>\n",
       "    <tr>\n",
       "      <th>0</th>\n",
       "      <td>0</td>\n",
       "      <td>RND000215205141</td>\n",
       "      <td>A850728973744</td>\n",
       "      <td>NaN</td>\n",
       "      <td>NaN</td>\n",
       "      <td>2019-12-06</td>\n",
       "      <td>NaN</td>\n",
       "      <td>1</td>\n",
       "      <td>NaN</td>\n",
       "    </tr>\n",
       "    <tr>\n",
       "      <th>1</th>\n",
       "      <td>1</td>\n",
       "      <td>RND000824303014</td>\n",
       "      <td>A141396438491</td>\n",
       "      <td>NaN</td>\n",
       "      <td>NaN</td>\n",
       "      <td>2011-04-27</td>\n",
       "      <td>NaN</td>\n",
       "      <td>9</td>\n",
       "      <td>NaN</td>\n",
       "    </tr>\n",
       "    <tr>\n",
       "      <th>2</th>\n",
       "      <td>2</td>\n",
       "      <td>RND000750143123</td>\n",
       "      <td>A929946861554</td>\n",
       "      <td>NaN</td>\n",
       "      <td>NaN</td>\n",
       "      <td>2017-06-06</td>\n",
       "      <td>2019-12-06</td>\n",
       "      <td>1</td>\n",
       "      <td>NaN</td>\n",
       "    </tr>\n",
       "    <tr>\n",
       "      <th>3</th>\n",
       "      <td>3</td>\n",
       "      <td>RND000909164501</td>\n",
       "      <td>A612330267292</td>\n",
       "      <td>NaN</td>\n",
       "      <td>NaN</td>\n",
       "      <td>2014-10-03</td>\n",
       "      <td>NaN</td>\n",
       "      <td>0</td>\n",
       "      <td>NaN</td>\n",
       "    </tr>\n",
       "    <tr>\n",
       "      <th>4</th>\n",
       "      <td>4</td>\n",
       "      <td>RND000382171815</td>\n",
       "      <td>A604459366806</td>\n",
       "      <td>NaN</td>\n",
       "      <td>NaN</td>\n",
       "      <td>2019-09-25</td>\n",
       "      <td>NaN</td>\n",
       "      <td>2</td>\n",
       "      <td>NaN</td>\n",
       "    </tr>\n",
       "    <tr>\n",
       "      <th>...</th>\n",
       "      <td>...</td>\n",
       "      <td>...</td>\n",
       "      <td>...</td>\n",
       "      <td>...</td>\n",
       "      <td>...</td>\n",
       "      <td>...</td>\n",
       "      <td>...</td>\n",
       "      <td>...</td>\n",
       "      <td>...</td>\n",
       "    </tr>\n",
       "    <tr>\n",
       "      <th>327</th>\n",
       "      <td>327</td>\n",
       "      <td>RND000112711501</td>\n",
       "      <td>A465246916125</td>\n",
       "      <td>NaN</td>\n",
       "      <td>NaN</td>\n",
       "      <td>2010-07-07</td>\n",
       "      <td>NaN</td>\n",
       "      <td>2</td>\n",
       "      <td>NaN</td>\n",
       "    </tr>\n",
       "    <tr>\n",
       "      <th>328</th>\n",
       "      <td>328</td>\n",
       "      <td>RND000513120794</td>\n",
       "      <td>A540014111973</td>\n",
       "      <td>NaN</td>\n",
       "      <td>NaN</td>\n",
       "      <td>2018-08-14</td>\n",
       "      <td>NaN</td>\n",
       "      <td>2</td>\n",
       "      <td>NaN</td>\n",
       "    </tr>\n",
       "    <tr>\n",
       "      <th>329</th>\n",
       "      <td>329</td>\n",
       "      <td>RND000541643134</td>\n",
       "      <td>A549582689058</td>\n",
       "      <td>NaN</td>\n",
       "      <td>NaN</td>\n",
       "      <td>2021-12-09</td>\n",
       "      <td>NaN</td>\n",
       "      <td>51</td>\n",
       "      <td>NaN</td>\n",
       "    </tr>\n",
       "    <tr>\n",
       "      <th>330</th>\n",
       "      <td>330</td>\n",
       "      <td>RND000404939452</td>\n",
       "      <td>A889492349196</td>\n",
       "      <td>NaN</td>\n",
       "      <td>NaN</td>\n",
       "      <td>2013-07-23</td>\n",
       "      <td>NaN</td>\n",
       "      <td>2</td>\n",
       "      <td>NaN</td>\n",
       "    </tr>\n",
       "    <tr>\n",
       "      <th>331</th>\n",
       "      <td>331</td>\n",
       "      <td>RND000589802835</td>\n",
       "      <td>A877624860226</td>\n",
       "      <td>NaN</td>\n",
       "      <td>NaN</td>\n",
       "      <td>2021-10-25</td>\n",
       "      <td>NaN</td>\n",
       "      <td>9</td>\n",
       "      <td>NaN</td>\n",
       "    </tr>\n",
       "  </tbody>\n",
       "</table>\n",
       "<p>332 rows × 9 columns</p>\n",
       "</div>"
      ],
      "text/plain": [
       "     Unnamed: 0        LAchildID            UPN  FormerUPN  UPNunknown  \\\n",
       "0             0  RND000215205141  A850728973744        NaN         NaN   \n",
       "1             1  RND000824303014  A141396438491        NaN         NaN   \n",
       "2             2  RND000750143123  A929946861554        NaN         NaN   \n",
       "3             3  RND000909164501  A612330267292        NaN         NaN   \n",
       "4             4  RND000382171815  A604459366806        NaN         NaN   \n",
       "..          ...              ...            ...        ...         ...   \n",
       "327         327  RND000112711501  A465246916125        NaN         NaN   \n",
       "328         328  RND000513120794  A540014111973        NaN         NaN   \n",
       "329         329  RND000541643134  A549582689058        NaN         NaN   \n",
       "330         330  RND000404939452  A889492349196        NaN         NaN   \n",
       "331         331  RND000589802835  A877624860226        NaN         NaN   \n",
       "\n",
       "    PersonBirthDate ExpectedPersonBirthDate  GenderCurrent PersonDeathDate  \n",
       "0        2019-12-06                     NaN              1             NaN  \n",
       "1        2011-04-27                     NaN              9             NaN  \n",
       "2        2017-06-06              2019-12-06              1             NaN  \n",
       "3        2014-10-03                     NaN              0             NaN  \n",
       "4        2019-09-25                     NaN              2             NaN  \n",
       "..              ...                     ...            ...             ...  \n",
       "327      2010-07-07                     NaN              2             NaN  \n",
       "328      2018-08-14                     NaN              2             NaN  \n",
       "329      2021-12-09                     NaN             51             NaN  \n",
       "330      2013-07-23                     NaN              2             NaN  \n",
       "331      2021-10-25                     NaN              9             NaN  \n",
       "\n",
       "[332 rows x 9 columns]"
      ]
     },
     "execution_count": 58,
     "metadata": {},
     "output_type": "execute_result"
    }
   ],
   "source": [
    "filepath = \"https://raw.githubusercontent.com/data-to-insight/ERN-sessions/main/data/ChildIdentifiers.csv\"\n",
    "df = pd.read_csv(filepath)\n",
    "df\n",
    "# df = df[['LAchildID','PersonBirthData','GenderCurrent']]"
   ]
  },
  {
   "cell_type": "code",
   "execution_count": 59,
   "metadata": {},
   "outputs": [
    {
     "data": {
      "text/html": [
       "<div>\n",
       "<style scoped>\n",
       "    .dataframe tbody tr th:only-of-type {\n",
       "        vertical-align: middle;\n",
       "    }\n",
       "\n",
       "    .dataframe tbody tr th {\n",
       "        vertical-align: top;\n",
       "    }\n",
       "\n",
       "    .dataframe thead th {\n",
       "        text-align: right;\n",
       "    }\n",
       "</style>\n",
       "<table border=\"1\" class=\"dataframe\">\n",
       "  <thead>\n",
       "    <tr style=\"text-align: right;\">\n",
       "      <th></th>\n",
       "      <th>LAchildID</th>\n",
       "      <th>PersonBirthDate</th>\n",
       "      <th>GenderCurrent</th>\n",
       "    </tr>\n",
       "  </thead>\n",
       "  <tbody>\n",
       "    <tr>\n",
       "      <th>0</th>\n",
       "      <td>RND000215205141</td>\n",
       "      <td>2019-12-06</td>\n",
       "      <td>1</td>\n",
       "    </tr>\n",
       "    <tr>\n",
       "      <th>1</th>\n",
       "      <td>RND000824303014</td>\n",
       "      <td>2011-04-27</td>\n",
       "      <td>9</td>\n",
       "    </tr>\n",
       "    <tr>\n",
       "      <th>2</th>\n",
       "      <td>RND000750143123</td>\n",
       "      <td>2017-06-06</td>\n",
       "      <td>1</td>\n",
       "    </tr>\n",
       "    <tr>\n",
       "      <th>3</th>\n",
       "      <td>RND000909164501</td>\n",
       "      <td>2014-10-03</td>\n",
       "      <td>0</td>\n",
       "    </tr>\n",
       "    <tr>\n",
       "      <th>4</th>\n",
       "      <td>RND000382171815</td>\n",
       "      <td>2019-09-25</td>\n",
       "      <td>2</td>\n",
       "    </tr>\n",
       "    <tr>\n",
       "      <th>...</th>\n",
       "      <td>...</td>\n",
       "      <td>...</td>\n",
       "      <td>...</td>\n",
       "    </tr>\n",
       "    <tr>\n",
       "      <th>327</th>\n",
       "      <td>RND000112711501</td>\n",
       "      <td>2010-07-07</td>\n",
       "      <td>2</td>\n",
       "    </tr>\n",
       "    <tr>\n",
       "      <th>328</th>\n",
       "      <td>RND000513120794</td>\n",
       "      <td>2018-08-14</td>\n",
       "      <td>2</td>\n",
       "    </tr>\n",
       "    <tr>\n",
       "      <th>329</th>\n",
       "      <td>RND000541643134</td>\n",
       "      <td>2021-12-09</td>\n",
       "      <td>51</td>\n",
       "    </tr>\n",
       "    <tr>\n",
       "      <th>330</th>\n",
       "      <td>RND000404939452</td>\n",
       "      <td>2013-07-23</td>\n",
       "      <td>2</td>\n",
       "    </tr>\n",
       "    <tr>\n",
       "      <th>331</th>\n",
       "      <td>RND000589802835</td>\n",
       "      <td>2021-10-25</td>\n",
       "      <td>9</td>\n",
       "    </tr>\n",
       "  </tbody>\n",
       "</table>\n",
       "<p>332 rows × 3 columns</p>\n",
       "</div>"
      ],
      "text/plain": [
       "           LAchildID PersonBirthDate  GenderCurrent\n",
       "0    RND000215205141      2019-12-06              1\n",
       "1    RND000824303014      2011-04-27              9\n",
       "2    RND000750143123      2017-06-06              1\n",
       "3    RND000909164501      2014-10-03              0\n",
       "4    RND000382171815      2019-09-25              2\n",
       "..               ...             ...            ...\n",
       "327  RND000112711501      2010-07-07              2\n",
       "328  RND000513120794      2018-08-14              2\n",
       "329  RND000541643134      2021-12-09             51\n",
       "330  RND000404939452      2013-07-23              2\n",
       "331  RND000589802835      2021-10-25              9\n",
       "\n",
       "[332 rows x 3 columns]"
      ]
     },
     "execution_count": 59,
     "metadata": {},
     "output_type": "execute_result"
    }
   ],
   "source": [
    "df = df[['LAchildID','PersonBirthDate','GenderCurrent']]\n",
    "df"
   ]
  },
  {
   "cell_type": "code",
   "execution_count": 60,
   "metadata": {},
   "outputs": [
    {
     "name": "stderr",
     "output_type": "stream",
     "text": [
      "/tmp/ipykernel_1305/2143316482.py:1: SettingWithCopyWarning: \n",
      "A value is trying to be set on a copy of a slice from a DataFrame.\n",
      "Try using .loc[row_indexer,col_indexer] = value instead\n",
      "\n",
      "See the caveats in the documentation: https://pandas.pydata.org/pandas-docs/stable/user_guide/indexing.html#returning-a-view-versus-a-copy\n",
      "  df['PersonBirthDate'] = pd.to_datetime(df['PersonBirthDate'],format='%Y-%m-%d',errors='coerce')\n"
     ]
    }
   ],
   "source": [
    "df['PersonBirthDate'] = pd.to_datetime(df['PersonBirthDate'],format='%Y-%m-%d',errors='coerce')"
   ]
  },
  {
   "cell_type": "code",
   "execution_count": 61,
   "metadata": {},
   "outputs": [
    {
     "name": "stderr",
     "output_type": "stream",
     "text": [
      "/tmp/ipykernel_1305/2953460526.py:2: SettingWithCopyWarning: \n",
      "A value is trying to be set on a copy of a slice from a DataFrame.\n",
      "Try using .loc[row_indexer,col_indexer] = value instead\n",
      "\n",
      "See the caveats in the documentation: https://pandas.pydata.org/pandas-docs/stable/user_guide/indexing.html#returning-a-view-versus-a-copy\n",
      "  df['Age'] = pd.to_datetime('09/02/2024',dayfirst=True) - df['PersonBirthDate']\n",
      "/tmp/ipykernel_1305/2953460526.py:3: SettingWithCopyWarning: \n",
      "A value is trying to be set on a copy of a slice from a DataFrame.\n",
      "Try using .loc[row_indexer,col_indexer] = value instead\n",
      "\n",
      "See the caveats in the documentation: https://pandas.pydata.org/pandas-docs/stable/user_guide/indexing.html#returning-a-view-versus-a-copy\n",
      "  df['Age'] = (df['Age'] / pd.Timedelta('365 days')).astype('int')\n"
     ]
    },
    {
     "data": {
      "text/html": [
       "<div>\n",
       "<style scoped>\n",
       "    .dataframe tbody tr th:only-of-type {\n",
       "        vertical-align: middle;\n",
       "    }\n",
       "\n",
       "    .dataframe tbody tr th {\n",
       "        vertical-align: top;\n",
       "    }\n",
       "\n",
       "    .dataframe thead th {\n",
       "        text-align: right;\n",
       "    }\n",
       "</style>\n",
       "<table border=\"1\" class=\"dataframe\">\n",
       "  <thead>\n",
       "    <tr style=\"text-align: right;\">\n",
       "      <th></th>\n",
       "      <th>LAchildID</th>\n",
       "      <th>PersonBirthDate</th>\n",
       "      <th>GenderCurrent</th>\n",
       "      <th>Age</th>\n",
       "    </tr>\n",
       "  </thead>\n",
       "  <tbody>\n",
       "    <tr>\n",
       "      <th>0</th>\n",
       "      <td>RND000215205141</td>\n",
       "      <td>2019-12-06</td>\n",
       "      <td>1</td>\n",
       "      <td>4</td>\n",
       "    </tr>\n",
       "    <tr>\n",
       "      <th>1</th>\n",
       "      <td>RND000824303014</td>\n",
       "      <td>2011-04-27</td>\n",
       "      <td>9</td>\n",
       "      <td>12</td>\n",
       "    </tr>\n",
       "    <tr>\n",
       "      <th>2</th>\n",
       "      <td>RND000750143123</td>\n",
       "      <td>2017-06-06</td>\n",
       "      <td>1</td>\n",
       "      <td>6</td>\n",
       "    </tr>\n",
       "    <tr>\n",
       "      <th>3</th>\n",
       "      <td>RND000909164501</td>\n",
       "      <td>2014-10-03</td>\n",
       "      <td>0</td>\n",
       "      <td>9</td>\n",
       "    </tr>\n",
       "    <tr>\n",
       "      <th>4</th>\n",
       "      <td>RND000382171815</td>\n",
       "      <td>2019-09-25</td>\n",
       "      <td>2</td>\n",
       "      <td>4</td>\n",
       "    </tr>\n",
       "    <tr>\n",
       "      <th>...</th>\n",
       "      <td>...</td>\n",
       "      <td>...</td>\n",
       "      <td>...</td>\n",
       "      <td>...</td>\n",
       "    </tr>\n",
       "    <tr>\n",
       "      <th>327</th>\n",
       "      <td>RND000112711501</td>\n",
       "      <td>2010-07-07</td>\n",
       "      <td>2</td>\n",
       "      <td>13</td>\n",
       "    </tr>\n",
       "    <tr>\n",
       "      <th>328</th>\n",
       "      <td>RND000513120794</td>\n",
       "      <td>2018-08-14</td>\n",
       "      <td>2</td>\n",
       "      <td>5</td>\n",
       "    </tr>\n",
       "    <tr>\n",
       "      <th>329</th>\n",
       "      <td>RND000541643134</td>\n",
       "      <td>2021-12-09</td>\n",
       "      <td>51</td>\n",
       "      <td>2</td>\n",
       "    </tr>\n",
       "    <tr>\n",
       "      <th>330</th>\n",
       "      <td>RND000404939452</td>\n",
       "      <td>2013-07-23</td>\n",
       "      <td>2</td>\n",
       "      <td>10</td>\n",
       "    </tr>\n",
       "    <tr>\n",
       "      <th>331</th>\n",
       "      <td>RND000589802835</td>\n",
       "      <td>2021-10-25</td>\n",
       "      <td>9</td>\n",
       "      <td>2</td>\n",
       "    </tr>\n",
       "  </tbody>\n",
       "</table>\n",
       "<p>332 rows × 4 columns</p>\n",
       "</div>"
      ],
      "text/plain": [
       "           LAchildID PersonBirthDate  GenderCurrent  Age\n",
       "0    RND000215205141      2019-12-06              1    4\n",
       "1    RND000824303014      2011-04-27              9   12\n",
       "2    RND000750143123      2017-06-06              1    6\n",
       "3    RND000909164501      2014-10-03              0    9\n",
       "4    RND000382171815      2019-09-25              2    4\n",
       "..               ...             ...            ...  ...\n",
       "327  RND000112711501      2010-07-07              2   13\n",
       "328  RND000513120794      2018-08-14              2    5\n",
       "329  RND000541643134      2021-12-09             51    2\n",
       "330  RND000404939452      2013-07-23              2   10\n",
       "331  RND000589802835      2021-10-25              9    2\n",
       "\n",
       "[332 rows x 4 columns]"
      ]
     },
     "execution_count": 61,
     "metadata": {},
     "output_type": "execute_result"
    }
   ],
   "source": [
    "import numpy as np\n",
    "df['Age'] = pd.to_datetime('09/02/2024',dayfirst=True) - df['PersonBirthDate']\n",
    "df['Age'] = (df['Age'] / pd.Timedelta('365 days')).astype('int')\n",
    "df"
   ]
  },
  {
   "cell_type": "code",
   "execution_count": 62,
   "metadata": {},
   "outputs": [
    {
     "name": "stderr",
     "output_type": "stream",
     "text": [
      "/tmp/ipykernel_1305/3144501135.py:5: SettingWithCopyWarning: \n",
      "A value is trying to be set on a copy of a slice from a DataFrame.\n",
      "Try using .loc[row_indexer,col_indexer] = value instead\n",
      "\n",
      "See the caveats in the documentation: https://pandas.pydata.org/pandas-docs/stable/user_guide/indexing.html#returning-a-view-versus-a-copy\n",
      "  df['GenderCurrent'] = df['GenderCurrent'].map(gender_map)\n"
     ]
    },
    {
     "data": {
      "text/html": [
       "<div>\n",
       "<style scoped>\n",
       "    .dataframe tbody tr th:only-of-type {\n",
       "        vertical-align: middle;\n",
       "    }\n",
       "\n",
       "    .dataframe tbody tr th {\n",
       "        vertical-align: top;\n",
       "    }\n",
       "\n",
       "    .dataframe thead th {\n",
       "        text-align: right;\n",
       "    }\n",
       "</style>\n",
       "<table border=\"1\" class=\"dataframe\">\n",
       "  <thead>\n",
       "    <tr style=\"text-align: right;\">\n",
       "      <th></th>\n",
       "      <th>LAchildID</th>\n",
       "      <th>PersonBirthDate</th>\n",
       "      <th>GenderCurrent</th>\n",
       "      <th>Age</th>\n",
       "    </tr>\n",
       "  </thead>\n",
       "  <tbody>\n",
       "    <tr>\n",
       "      <th>0</th>\n",
       "      <td>RND000215205141</td>\n",
       "      <td>2019-12-06</td>\n",
       "      <td>Male</td>\n",
       "      <td>4</td>\n",
       "    </tr>\n",
       "    <tr>\n",
       "      <th>1</th>\n",
       "      <td>RND000824303014</td>\n",
       "      <td>2011-04-27</td>\n",
       "      <td>Unknown</td>\n",
       "      <td>12</td>\n",
       "    </tr>\n",
       "    <tr>\n",
       "      <th>2</th>\n",
       "      <td>RND000750143123</td>\n",
       "      <td>2017-06-06</td>\n",
       "      <td>Male</td>\n",
       "      <td>6</td>\n",
       "    </tr>\n",
       "    <tr>\n",
       "      <th>3</th>\n",
       "      <td>RND000909164501</td>\n",
       "      <td>2014-10-03</td>\n",
       "      <td>Unknown</td>\n",
       "      <td>9</td>\n",
       "    </tr>\n",
       "    <tr>\n",
       "      <th>4</th>\n",
       "      <td>RND000382171815</td>\n",
       "      <td>2019-09-25</td>\n",
       "      <td>Female</td>\n",
       "      <td>4</td>\n",
       "    </tr>\n",
       "    <tr>\n",
       "      <th>...</th>\n",
       "      <td>...</td>\n",
       "      <td>...</td>\n",
       "      <td>...</td>\n",
       "      <td>...</td>\n",
       "    </tr>\n",
       "    <tr>\n",
       "      <th>327</th>\n",
       "      <td>RND000112711501</td>\n",
       "      <td>2010-07-07</td>\n",
       "      <td>Female</td>\n",
       "      <td>13</td>\n",
       "    </tr>\n",
       "    <tr>\n",
       "      <th>328</th>\n",
       "      <td>RND000513120794</td>\n",
       "      <td>2018-08-14</td>\n",
       "      <td>Female</td>\n",
       "      <td>5</td>\n",
       "    </tr>\n",
       "    <tr>\n",
       "      <th>329</th>\n",
       "      <td>RND000541643134</td>\n",
       "      <td>2021-12-09</td>\n",
       "      <td>NaN</td>\n",
       "      <td>2</td>\n",
       "    </tr>\n",
       "    <tr>\n",
       "      <th>330</th>\n",
       "      <td>RND000404939452</td>\n",
       "      <td>2013-07-23</td>\n",
       "      <td>Female</td>\n",
       "      <td>10</td>\n",
       "    </tr>\n",
       "    <tr>\n",
       "      <th>331</th>\n",
       "      <td>RND000589802835</td>\n",
       "      <td>2021-10-25</td>\n",
       "      <td>Unknown</td>\n",
       "      <td>2</td>\n",
       "    </tr>\n",
       "  </tbody>\n",
       "</table>\n",
       "<p>332 rows × 4 columns</p>\n",
       "</div>"
      ],
      "text/plain": [
       "           LAchildID PersonBirthDate GenderCurrent  Age\n",
       "0    RND000215205141      2019-12-06          Male    4\n",
       "1    RND000824303014      2011-04-27       Unknown   12\n",
       "2    RND000750143123      2017-06-06          Male    6\n",
       "3    RND000909164501      2014-10-03       Unknown    9\n",
       "4    RND000382171815      2019-09-25        Female    4\n",
       "..               ...             ...           ...  ...\n",
       "327  RND000112711501      2010-07-07        Female   13\n",
       "328  RND000513120794      2018-08-14        Female    5\n",
       "329  RND000541643134      2021-12-09           NaN    2\n",
       "330  RND000404939452      2013-07-23        Female   10\n",
       "331  RND000589802835      2021-10-25       Unknown    2\n",
       "\n",
       "[332 rows x 4 columns]"
      ]
     },
     "execution_count": 62,
     "metadata": {},
     "output_type": "execute_result"
    }
   ],
   "source": [
    "gender_map = {1:'Male',\n",
    "              2:'Female',\n",
    "              0:'Unknown',\n",
    "              9:'Unknown'}\n",
    "df['GenderCurrent'] = df['GenderCurrent'].map(gender_map)\n",
    "df"
   ]
  },
  {
   "cell_type": "code",
   "execution_count": 63,
   "metadata": {},
   "outputs": [
    {
     "data": {
      "text/html": [
       "<div>\n",
       "<style scoped>\n",
       "    .dataframe tbody tr th:only-of-type {\n",
       "        vertical-align: middle;\n",
       "    }\n",
       "\n",
       "    .dataframe tbody tr th {\n",
       "        vertical-align: top;\n",
       "    }\n",
       "\n",
       "    .dataframe thead th {\n",
       "        text-align: right;\n",
       "    }\n",
       "</style>\n",
       "<table border=\"1\" class=\"dataframe\">\n",
       "  <thead>\n",
       "    <tr style=\"text-align: right;\">\n",
       "      <th></th>\n",
       "      <th>LAchildID</th>\n",
       "      <th>PersonBirthDate</th>\n",
       "      <th>GenderCurrent</th>\n",
       "      <th>Age</th>\n",
       "    </tr>\n",
       "  </thead>\n",
       "  <tbody>\n",
       "    <tr>\n",
       "      <th>0</th>\n",
       "      <td>RND000215205141</td>\n",
       "      <td>2019-12-06</td>\n",
       "      <td>Male</td>\n",
       "      <td>4</td>\n",
       "    </tr>\n",
       "    <tr>\n",
       "      <th>4</th>\n",
       "      <td>RND000382171815</td>\n",
       "      <td>2019-09-25</td>\n",
       "      <td>Female</td>\n",
       "      <td>4</td>\n",
       "    </tr>\n",
       "    <tr>\n",
       "      <th>5</th>\n",
       "      <td>RND000471630058</td>\n",
       "      <td>2021-04-02</td>\n",
       "      <td>Unknown</td>\n",
       "      <td>2</td>\n",
       "    </tr>\n",
       "    <tr>\n",
       "      <th>7</th>\n",
       "      <td>RND000756924984</td>\n",
       "      <td>2021-04-04</td>\n",
       "      <td>Female</td>\n",
       "      <td>2</td>\n",
       "    </tr>\n",
       "    <tr>\n",
       "      <th>10</th>\n",
       "      <td>RND000003988611</td>\n",
       "      <td>2022-05-11</td>\n",
       "      <td>Male</td>\n",
       "      <td>1</td>\n",
       "    </tr>\n",
       "  </tbody>\n",
       "</table>\n",
       "</div>"
      ],
      "text/plain": [
       "          LAchildID PersonBirthDate GenderCurrent  Age\n",
       "0   RND000215205141      2019-12-06          Male    4\n",
       "4   RND000382171815      2019-09-25        Female    4\n",
       "5   RND000471630058      2021-04-02       Unknown    2\n",
       "7   RND000756924984      2021-04-04        Female    2\n",
       "10  RND000003988611      2022-05-11          Male    1"
      ]
     },
     "execution_count": 63,
     "metadata": {},
     "output_type": "execute_result"
    }
   ],
   "source": [
    "under_5s = df['Age']<5\n",
    "df[under_5s].head()"
   ]
  },
  {
   "cell_type": "code",
   "execution_count": 64,
   "metadata": {},
   "outputs": [
    {
     "data": {
      "text/plain": [
       "0       True\n",
       "1      False\n",
       "2      False\n",
       "3      False\n",
       "4       True\n",
       "       ...  \n",
       "327    False\n",
       "328    False\n",
       "329     True\n",
       "330    False\n",
       "331     True\n",
       "Name: Age, Length: 332, dtype: bool"
      ]
     },
     "execution_count": 64,
     "metadata": {},
     "output_type": "execute_result"
    }
   ],
   "source": [
    "df['Age']<5"
   ]
  },
  {
   "cell_type": "code",
   "execution_count": 65,
   "metadata": {},
   "outputs": [
    {
     "data": {
      "text/html": [
       "<div>\n",
       "<style scoped>\n",
       "    .dataframe tbody tr th:only-of-type {\n",
       "        vertical-align: middle;\n",
       "    }\n",
       "\n",
       "    .dataframe tbody tr th {\n",
       "        vertical-align: top;\n",
       "    }\n",
       "\n",
       "    .dataframe thead th {\n",
       "        text-align: right;\n",
       "    }\n",
       "</style>\n",
       "<table border=\"1\" class=\"dataframe\">\n",
       "  <thead>\n",
       "    <tr style=\"text-align: right;\">\n",
       "      <th></th>\n",
       "      <th>LAchildID</th>\n",
       "      <th>PersonBirthDate</th>\n",
       "      <th>GenderCurrent</th>\n",
       "      <th>Age</th>\n",
       "    </tr>\n",
       "  </thead>\n",
       "  <tbody>\n",
       "    <tr>\n",
       "      <th>0</th>\n",
       "      <td>RND000215205141</td>\n",
       "      <td>2019-12-06</td>\n",
       "      <td>Male</td>\n",
       "      <td>4</td>\n",
       "    </tr>\n",
       "    <tr>\n",
       "      <th>10</th>\n",
       "      <td>RND000003988611</td>\n",
       "      <td>2022-05-11</td>\n",
       "      <td>Male</td>\n",
       "      <td>1</td>\n",
       "    </tr>\n",
       "    <tr>\n",
       "      <th>15</th>\n",
       "      <td>RND000616439909</td>\n",
       "      <td>2020-04-06</td>\n",
       "      <td>Male</td>\n",
       "      <td>3</td>\n",
       "    </tr>\n",
       "    <tr>\n",
       "      <th>104</th>\n",
       "      <td>RND000063991293</td>\n",
       "      <td>2019-04-21</td>\n",
       "      <td>Male</td>\n",
       "      <td>4</td>\n",
       "    </tr>\n",
       "    <tr>\n",
       "      <th>134</th>\n",
       "      <td>RND000403002895</td>\n",
       "      <td>2019-09-27</td>\n",
       "      <td>Male</td>\n",
       "      <td>4</td>\n",
       "    </tr>\n",
       "  </tbody>\n",
       "</table>\n",
       "</div>"
      ],
      "text/plain": [
       "           LAchildID PersonBirthDate GenderCurrent  Age\n",
       "0    RND000215205141      2019-12-06          Male    4\n",
       "10   RND000003988611      2022-05-11          Male    1\n",
       "15   RND000616439909      2020-04-06          Male    3\n",
       "104  RND000063991293      2019-04-21          Male    4\n",
       "134  RND000403002895      2019-09-27          Male    4"
      ]
     },
     "execution_count": 65,
     "metadata": {},
     "output_type": "execute_result"
    }
   ],
   "source": [
    "under_5s_male = (df['Age'] <5) & (df['GenderCurrent']=='Male')\n",
    "df[under_5s_male].head()"
   ]
  },
  {
   "cell_type": "code",
   "execution_count": 66,
   "metadata": {},
   "outputs": [
    {
     "data": {
      "text/html": [
       "<div>\n",
       "<style scoped>\n",
       "    .dataframe tbody tr th:only-of-type {\n",
       "        vertical-align: middle;\n",
       "    }\n",
       "\n",
       "    .dataframe tbody tr th {\n",
       "        vertical-align: top;\n",
       "    }\n",
       "\n",
       "    .dataframe thead th {\n",
       "        text-align: right;\n",
       "    }\n",
       "</style>\n",
       "<table border=\"1\" class=\"dataframe\">\n",
       "  <thead>\n",
       "    <tr style=\"text-align: right;\">\n",
       "      <th></th>\n",
       "      <th>LAchildID</th>\n",
       "      <th>PersonBirthDate</th>\n",
       "      <th>GenderCurrent</th>\n",
       "      <th>Age</th>\n",
       "    </tr>\n",
       "  </thead>\n",
       "  <tbody>\n",
       "    <tr>\n",
       "      <th>0</th>\n",
       "      <td>RND000215205141</td>\n",
       "      <td>2019-12-06</td>\n",
       "      <td>Male</td>\n",
       "      <td>4</td>\n",
       "    </tr>\n",
       "    <tr>\n",
       "      <th>4</th>\n",
       "      <td>RND000382171815</td>\n",
       "      <td>2019-09-25</td>\n",
       "      <td>Female</td>\n",
       "      <td>4</td>\n",
       "    </tr>\n",
       "    <tr>\n",
       "      <th>5</th>\n",
       "      <td>RND000471630058</td>\n",
       "      <td>2021-04-02</td>\n",
       "      <td>Unknown</td>\n",
       "      <td>2</td>\n",
       "    </tr>\n",
       "    <tr>\n",
       "      <th>7</th>\n",
       "      <td>RND000756924984</td>\n",
       "      <td>2021-04-04</td>\n",
       "      <td>Female</td>\n",
       "      <td>2</td>\n",
       "    </tr>\n",
       "    <tr>\n",
       "      <th>10</th>\n",
       "      <td>RND000003988611</td>\n",
       "      <td>2022-05-11</td>\n",
       "      <td>Male</td>\n",
       "      <td>1</td>\n",
       "    </tr>\n",
       "  </tbody>\n",
       "</table>\n",
       "</div>"
      ],
      "text/plain": [
       "          LAchildID PersonBirthDate GenderCurrent  Age\n",
       "0   RND000215205141      2019-12-06          Male    4\n",
       "4   RND000382171815      2019-09-25        Female    4\n",
       "5   RND000471630058      2021-04-02       Unknown    2\n",
       "7   RND000756924984      2021-04-04        Female    2\n",
       "10  RND000003988611      2022-05-11          Male    1"
      ]
     },
     "execution_count": 66,
     "metadata": {},
     "output_type": "execute_result"
    }
   ],
   "source": [
    "under_5s_or_male = (df['Age'] <5) | (df['GenderCurrent']=='Unkown')\n",
    "df[under_5s_or_male].head()"
   ]
  },
  {
   "cell_type": "code",
   "execution_count": 67,
   "metadata": {},
   "outputs": [
    {
     "data": {
      "text/html": [
       "<div>\n",
       "<style scoped>\n",
       "    .dataframe tbody tr th:only-of-type {\n",
       "        vertical-align: middle;\n",
       "    }\n",
       "\n",
       "    .dataframe tbody tr th {\n",
       "        vertical-align: top;\n",
       "    }\n",
       "\n",
       "    .dataframe thead th {\n",
       "        text-align: right;\n",
       "    }\n",
       "</style>\n",
       "<table border=\"1\" class=\"dataframe\">\n",
       "  <thead>\n",
       "    <tr style=\"text-align: right;\">\n",
       "      <th></th>\n",
       "      <th>PersonBirthDate</th>\n",
       "      <th>Age</th>\n",
       "    </tr>\n",
       "  </thead>\n",
       "  <tbody>\n",
       "    <tr>\n",
       "      <th>count</th>\n",
       "      <td>332</td>\n",
       "      <td>332.000000</td>\n",
       "    </tr>\n",
       "    <tr>\n",
       "      <th>mean</th>\n",
       "      <td>2013-06-25 11:03:36.867469824</td>\n",
       "      <td>10.132530</td>\n",
       "    </tr>\n",
       "    <tr>\n",
       "      <th>min</th>\n",
       "      <td>2004-08-20 00:00:00</td>\n",
       "      <td>1.000000</td>\n",
       "    </tr>\n",
       "    <tr>\n",
       "      <th>25%</th>\n",
       "      <td>2008-09-29 12:00:00</td>\n",
       "      <td>5.000000</td>\n",
       "    </tr>\n",
       "    <tr>\n",
       "      <th>50%</th>\n",
       "      <td>2013-10-23 00:00:00</td>\n",
       "      <td>10.000000</td>\n",
       "    </tr>\n",
       "    <tr>\n",
       "      <th>75%</th>\n",
       "      <td>2018-03-12 00:00:00</td>\n",
       "      <td>15.000000</td>\n",
       "    </tr>\n",
       "    <tr>\n",
       "      <th>max</th>\n",
       "      <td>2022-07-12 00:00:00</td>\n",
       "      <td>19.000000</td>\n",
       "    </tr>\n",
       "    <tr>\n",
       "      <th>std</th>\n",
       "      <td>NaN</td>\n",
       "      <td>5.317181</td>\n",
       "    </tr>\n",
       "  </tbody>\n",
       "</table>\n",
       "</div>"
      ],
      "text/plain": [
       "                     PersonBirthDate         Age\n",
       "count                            332  332.000000\n",
       "mean   2013-06-25 11:03:36.867469824   10.132530\n",
       "min              2004-08-20 00:00:00    1.000000\n",
       "25%              2008-09-29 12:00:00    5.000000\n",
       "50%              2013-10-23 00:00:00   10.000000\n",
       "75%              2018-03-12 00:00:00   15.000000\n",
       "max              2022-07-12 00:00:00   19.000000\n",
       "std                              NaN    5.317181"
      ]
     },
     "execution_count": 67,
     "metadata": {},
     "output_type": "execute_result"
    }
   ],
   "source": [
    "df.describe()"
   ]
  },
  {
   "cell_type": "code",
   "execution_count": 68,
   "metadata": {},
   "outputs": [
    {
     "name": "stdout",
     "output_type": "stream",
     "text": [
      "           LAchildID PersonBirthDate GenderCurrent  Age\n",
      "0    RND000215205141      2019-12-06          Male    4\n",
      "2    RND000750143123      2017-06-06          Male    6\n",
      "10   RND000003988611      2022-05-11          Male    1\n",
      "15   RND000616439909      2020-04-06          Male    3\n",
      "19   RND000958425881      2007-07-04          Male   16\n",
      "..               ...             ...           ...  ...\n",
      "322  RND000498746591      2008-04-11        Female   15\n",
      "323  RND000044483554      2020-06-16          Male    3\n",
      "324  RND000110305262      2022-06-13          Male    1\n",
      "325  RND000174662411      2005-08-08           NaN   18\n",
      "326  RND000033895249      2007-12-25       Unknown   16\n",
      "\n",
      "[148 rows x 4 columns]\n",
      "           LAchildID PersonBirthDate GenderCurrent  Age\n",
      "0    RND000215205141      2019-12-06          Male    4\n",
      "1    RND000824303014      2011-04-27       Unknown   12\n",
      "2    RND000750143123      2017-06-06          Male    6\n",
      "3    RND000909164501      2014-10-03       Unknown    9\n",
      "4    RND000382171815      2019-09-25        Female    4\n",
      "..               ...             ...           ...  ...\n",
      "327  RND000112711501      2010-07-07        Female   13\n",
      "328  RND000513120794      2018-08-14        Female    5\n",
      "329  RND000541643134      2021-12-09           NaN    2\n",
      "330  RND000404939452      2013-07-23        Female   10\n",
      "331  RND000589802835      2021-10-25       Unknown    2\n",
      "\n",
      "[278 rows x 4 columns]\n"
     ]
    }
   ],
   "source": [
    "age_15_or_over_or_male = (df['Age']>=15) | (df['GenderCurrent']=='Male')\n",
    "age_15_or_over_or_female = (df['Age']<=15) | (df['GenderCurrent']=='Female')\n",
    "print(df[age_15_or_over_or_male])\n",
    "print(df[age_15_or_over_or_female])"
   ]
  },
  {
   "cell_type": "code",
   "execution_count": 69,
   "metadata": {},
   "outputs": [],
   "source": [
    "# condition_3 = ~df['Age'] >=15  # ~ will negate it so it will show everyone not >=15\n",
    "# con_4 = df['GenderCurrent'].str.lower() == 'male'\n",
    "# df['GenderCurrent'] = df['GenderCurrent'].str.lower()\n",
    "# con_5 = df['GenderCurrent'].isin(['male','female'])\n",
    "# # con_6 = (df[df['GenderCurrent'].str.contains('m')) & (df['GenderCurrent'].notna)]"
   ]
  },
  {
   "cell_type": "code",
   "execution_count": 70,
   "metadata": {},
   "outputs": [
    {
     "ename": "NameError",
     "evalue": "name 'con_6' is not defined",
     "output_type": "error",
     "traceback": [
      "\u001b[0;31m---------------------------------------------------------------------------\u001b[0m",
      "\u001b[0;31mNameError\u001b[0m                                 Traceback (most recent call last)",
      "Cell \u001b[0;32mIn[70], line 1\u001b[0m\n\u001b[0;32m----> 1\u001b[0m df[\u001b[43mcon_6\u001b[49m]\n",
      "\u001b[0;31mNameError\u001b[0m: name 'con_6' is not defined"
     ]
    }
   ],
   "source": [
    "df[con_6]"
   ]
  },
  {
   "cell_type": "code",
   "execution_count": null,
   "metadata": {},
   "outputs": [],
   "source": []
  }
 ],
 "metadata": {
  "kernelspec": {
   "display_name": "Python 3",
   "language": "python",
   "name": "python3"
  },
  "language_info": {
   "codemirror_mode": {
    "name": "ipython",
    "version": 3
   },
   "file_extension": ".py",
   "mimetype": "text/x-python",
   "name": "python",
   "nbconvert_exporter": "python",
   "pygments_lexer": "ipython3",
   "version": "3.10.13"
  }
 },
 "nbformat": 4,
 "nbformat_minor": 2
}
